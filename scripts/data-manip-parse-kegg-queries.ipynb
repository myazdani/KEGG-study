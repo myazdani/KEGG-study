{
 "cells": [
  {
   "cell_type": "code",
   "execution_count": 8,
   "metadata": {
    "collapsed": true
   },
   "outputs": [],
   "source": [
    "import re\n",
    "import cPickle as pickle\n",
    "from bioservices.kegg import KEGG\n",
    "import pandas as pd"
   ]
  },
  {
   "cell_type": "code",
   "execution_count": null,
   "metadata": {
    "collapsed": true
   },
   "outputs": [],
   "source": [
    "k = KEGG()\n",
    "k.get('K10783')"
   ]
  },
  {
   "cell_type": "markdown",
   "metadata": {},
   "source": [
    "## Load the queries"
   ]
  },
  {
   "cell_type": "code",
   "execution_count": 6,
   "metadata": {
    "collapsed": true
   },
   "outputs": [],
   "source": [
    "kegg_queries = pickle.load( open( \"../data/kegg_queries.p\", \"rb\" ) )"
   ]
  },
  {
   "cell_type": "markdown",
   "metadata": {},
   "source": [
    "## Find queries that had 404 error"
   ]
  },
  {
   "cell_type": "code",
   "execution_count": 25,
   "metadata": {
    "collapsed": true
   },
   "outputs": [],
   "source": [
    "df = pd.DataFrame(kegg_queries.items())\n",
    "df.head()"
   ]
  },
  {
   "cell_type": "code",
   "execution_count": 26,
   "metadata": {
    "collapsed": false
   },
   "outputs": [
    {
     "data": {
      "text/html": [
       "<div>\n",
       "<table border=\"1\" class=\"dataframe\">\n",
       "  <thead>\n",
       "    <tr style=\"text-align: right;\">\n",
       "      <th></th>\n",
       "      <th>0</th>\n",
       "      <th>1</th>\n",
       "    </tr>\n",
       "  </thead>\n",
       "  <tbody>\n",
       "    <tr>\n",
       "      <th>0</th>\n",
       "      <td>K02040</td>\n",
       "      <td>ENTRY       K02040                      KO\\nNA...</td>\n",
       "    </tr>\n",
       "    <tr>\n",
       "      <th>1</th>\n",
       "      <td>K01369</td>\n",
       "      <td>ENTRY       K01369                      KO\\nNA...</td>\n",
       "    </tr>\n",
       "    <tr>\n",
       "      <th>2</th>\n",
       "      <td>K01368</td>\n",
       "      <td>ENTRY       K01368                      KO\\nNA...</td>\n",
       "    </tr>\n",
       "    <tr>\n",
       "      <th>3</th>\n",
       "      <td>K01365</td>\n",
       "      <td>ENTRY       K01365                      KO\\nNA...</td>\n",
       "    </tr>\n",
       "    <tr>\n",
       "      <th>4</th>\n",
       "      <td>K01364</td>\n",
       "      <td>ENTRY       K01364                      KO\\nNA...</td>\n",
       "    </tr>\n",
       "  </tbody>\n",
       "</table>\n",
       "</div>"
      ],
      "text/plain": [
       "        0                                                  1\n",
       "0  K02040  ENTRY       K02040                      KO\\nNA...\n",
       "1  K01369  ENTRY       K01369                      KO\\nNA...\n",
       "2  K01368  ENTRY       K01368                      KO\\nNA...\n",
       "3  K01365  ENTRY       K01365                      KO\\nNA...\n",
       "4  K01364  ENTRY       K01364                      KO\\nNA..."
      ]
     },
     "execution_count": 26,
     "metadata": {},
     "output_type": "execute_result"
    }
   ],
   "source": [
    "df.head()"
   ]
  },
  {
   "cell_type": "code",
   "execution_count": 39,
   "metadata": {
    "collapsed": false
   },
   "outputs": [],
   "source": [
    "df[df.iloc[:,1] == 404].to_csv(\"../data/bad_keggs.csv\", index = False)"
   ]
  },
  {
   "cell_type": "markdown",
   "metadata": {},
   "source": [
    "## Get Level 1 and Level 2 classifications from the KEGG orthology"
   ]
  },
  {
   "cell_type": "code",
   "execution_count": 115,
   "metadata": {
    "collapsed": false
   },
   "outputs": [
    {
     "data": {
      "text/html": [
       "<div>\n",
       "<table border=\"1\" class=\"dataframe\">\n",
       "  <thead>\n",
       "    <tr style=\"text-align: right;\">\n",
       "      <th></th>\n",
       "      <th>0</th>\n",
       "      <th>1</th>\n",
       "    </tr>\n",
       "  </thead>\n",
       "  <tbody>\n",
       "    <tr>\n",
       "      <th>0</th>\n",
       "      <td>K02040</td>\n",
       "      <td>ENTRY       K02040                      KO\\nNA...</td>\n",
       "    </tr>\n",
       "    <tr>\n",
       "      <th>1</th>\n",
       "      <td>K01369</td>\n",
       "      <td>ENTRY       K01369                      KO\\nNA...</td>\n",
       "    </tr>\n",
       "    <tr>\n",
       "      <th>2</th>\n",
       "      <td>K01368</td>\n",
       "      <td>ENTRY       K01368                      KO\\nNA...</td>\n",
       "    </tr>\n",
       "    <tr>\n",
       "      <th>3</th>\n",
       "      <td>K01365</td>\n",
       "      <td>ENTRY       K01365                      KO\\nNA...</td>\n",
       "    </tr>\n",
       "    <tr>\n",
       "      <th>4</th>\n",
       "      <td>K01364</td>\n",
       "      <td>ENTRY       K01364                      KO\\nNA...</td>\n",
       "    </tr>\n",
       "  </tbody>\n",
       "</table>\n",
       "</div>"
      ],
      "text/plain": [
       "        0                                                  1\n",
       "0  K02040  ENTRY       K02040                      KO\\nNA...\n",
       "1  K01369  ENTRY       K01369                      KO\\nNA...\n",
       "2  K01368  ENTRY       K01368                      KO\\nNA...\n",
       "3  K01365  ENTRY       K01365                      KO\\nNA...\n",
       "4  K01364  ENTRY       K01364                      KO\\nNA..."
      ]
     },
     "execution_count": 115,
     "metadata": {},
     "output_type": "execute_result"
    }
   ],
   "source": [
    "df_good_keggs = df[df.iloc[:,1] != 404]\n",
    "df_good_keggs.head()"
   ]
  },
  {
   "cell_type": "code",
   "execution_count": null,
   "metadata": {
    "collapsed": true
   },
   "outputs": [],
   "source": [
    "#match = re.search('KEGG Orthology \\(KO\\) .*\\\\n.*\\\\n.*', kegg_queries[kegg_query])"
   ]
  },
  {
   "cell_type": "code",
   "execution_count": 43,
   "metadata": {
    "collapsed": true
   },
   "outputs": [],
   "source": [
    "good_keggs = list(df_good_keggs.iloc[:,0])"
   ]
  },
  {
   "cell_type": "code",
   "execution_count": 65,
   "metadata": {
    "collapsed": false
   },
   "outputs": [],
   "source": [
    "metabolism_level_1_dict = {}\n",
    "metabolism_level_2_dict = {}\n",
    "\n",
    "\n",
    "for i, good_kegg in enumerate(good_keggs):\n",
    "    if good_kegg == 'K88':\n",
    "        continue\n",
    "    match = re.search(u'KEGG Orthology \\(KO\\) .*\\\\n.*\\\\n.*', kegg_queries[good_kegg])\n",
    "    if match:\n",
    "        metabolism_level_1_dict[good_kegg] = match.group().split(\"\\n\")[1].strip()\n",
    "        metabolism_level_2_dict[good_kegg] = match.group().split(\"\\n\")[2].strip()\n",
    "    else:\n",
    "        metabolism_level_1_dict[good_kegg] = 'NA'\n",
    "        metabolism_level_2_dict[good_kegg] = 'NA'"
   ]
  },
  {
   "cell_type": "code",
   "execution_count": 66,
   "metadata": {
    "collapsed": false
   },
   "outputs": [],
   "source": [
    "metabolism_level_1_df = pd.DataFrame(metabolism_level_1_dict.items())\n",
    "metabolism_level_2_df = pd.DataFrame(metabolism_level_2_dict.items())"
   ]
  },
  {
   "cell_type": "code",
   "execution_count": 71,
   "metadata": {
    "collapsed": false
   },
   "outputs": [
    {
     "data": {
      "text/plain": [
       "array([u'Cellular Processes', u'Human Diseases', 'NA', u'Metabolism',\n",
       "       u'Environmental Information Processing',\n",
       "       u'Genetic Information Processing', u'Organismal Systems'], dtype=object)"
      ]
     },
     "execution_count": 71,
     "metadata": {},
     "output_type": "execute_result"
    }
   ],
   "source": [
    "pd.unique(metabolism_level_1_df.iloc[:,1])"
   ]
  },
  {
   "cell_type": "code",
   "execution_count": 72,
   "metadata": {
    "collapsed": false
   },
   "outputs": [
    {
     "data": {
      "text/plain": [
       "array([u'Transport and catabolism', u'Drug resistance', 'NA',\n",
       "       u'Lipid metabolism', u'Signal transduction', u'Membrane transport',\n",
       "       u'Amino acid metabolism', u'Overview',\n",
       "       u'Metabolism of cofactors and vitamins', u'Carbohydrate metabolism',\n",
       "       u'Folding, sorting and degradation', u'Energy metabolism',\n",
       "       u'Translation', u'Excretory system', u'Digestive system',\n",
       "       u'Metabolism of other amino acids',\n",
       "       u'Glycan biosynthesis and metabolism',\n",
       "       u'Metabolism of terpenoids and polyketides', u'Infectious diseases',\n",
       "       u'Xenobiotics biodegradation and metabolism',\n",
       "       u'Nucleotide metabolism', u'Development', u'Replication and repair',\n",
       "       u'Cell growth and death', u'Cancers', u'Cellular commiunity',\n",
       "       u'Endocrine and metabolic diseases', u'Immune system',\n",
       "       u'Biosynthesis of other secondary metabolites',\n",
       "       u'Signaling molecules and interaction', u'Transcription',\n",
       "       u'Cell motility', u'Circulatory system', u'Endocrine system',\n",
       "       u'Neurodegenerative diseases', u'Nervous system',\n",
       "       u'Environmental adaptation', u'Sensory system',\n",
       "       u'Cardiovascular diseases', u'Substance dependence',\n",
       "       u'Immune diseases', u'Aging', u'Enzyme families'], dtype=object)"
      ]
     },
     "execution_count": 72,
     "metadata": {},
     "output_type": "execute_result"
    }
   ],
   "source": [
    "pd.unique(metabolism_level_2_df.iloc[:,1])"
   ]
  },
  {
   "cell_type": "code",
   "execution_count": 117,
   "metadata": {
    "collapsed": false
   },
   "outputs": [
    {
     "data": {
      "text/plain": [
       "(10012, 2)"
      ]
     },
     "execution_count": 117,
     "metadata": {},
     "output_type": "execute_result"
    }
   ],
   "source": [
    "metabolism_level_1_df.shape"
   ]
  },
  {
   "cell_type": "code",
   "execution_count": 118,
   "metadata": {
    "collapsed": false
   },
   "outputs": [
    {
     "data": {
      "text/plain": [
       "(10012, 2)"
      ]
     },
     "execution_count": 118,
     "metadata": {},
     "output_type": "execute_result"
    }
   ],
   "source": [
    "metabolism_level_2_df.shape"
   ]
  },
  {
   "cell_type": "code",
   "execution_count": 121,
   "metadata": {
    "collapsed": true
   },
   "outputs": [],
   "source": [
    "metabolism_level_1_df.columns = [\"kegg\", \"level_1\"]\n",
    "metabolism_level_2_df.columns = [\"kegg\", \"level_2\"]"
   ]
  },
  {
   "cell_type": "code",
   "execution_count": 131,
   "metadata": {
    "collapsed": true
   },
   "outputs": [],
   "source": [
    "KOresult = pd.merge(metabolism_level_1_df, metabolism_level_2_df, on='kegg')"
   ]
  },
  {
   "cell_type": "code",
   "execution_count": 132,
   "metadata": {
    "collapsed": false
   },
   "outputs": [
    {
     "data": {
      "text/html": [
       "<div>\n",
       "<table border=\"1\" class=\"dataframe\">\n",
       "  <thead>\n",
       "    <tr style=\"text-align: right;\">\n",
       "      <th></th>\n",
       "      <th>kegg</th>\n",
       "      <th>level_1</th>\n",
       "      <th>level_2</th>\n",
       "    </tr>\n",
       "  </thead>\n",
       "  <tbody>\n",
       "    <tr>\n",
       "      <th>5</th>\n",
       "      <td>K01361</td>\n",
       "      <td>NA</td>\n",
       "      <td>NA</td>\n",
       "    </tr>\n",
       "    <tr>\n",
       "      <th>6</th>\n",
       "      <td>K01360</td>\n",
       "      <td>NA</td>\n",
       "      <td>NA</td>\n",
       "    </tr>\n",
       "    <tr>\n",
       "      <th>8</th>\n",
       "      <td>K01362</td>\n",
       "      <td>NA</td>\n",
       "      <td>NA</td>\n",
       "    </tr>\n",
       "    <tr>\n",
       "      <th>9</th>\n",
       "      <td>K09173</td>\n",
       "      <td>NA</td>\n",
       "      <td>NA</td>\n",
       "    </tr>\n",
       "    <tr>\n",
       "      <th>12</th>\n",
       "      <td>K05841</td>\n",
       "      <td>NA</td>\n",
       "      <td>NA</td>\n",
       "    </tr>\n",
       "  </tbody>\n",
       "</table>\n",
       "</div>"
      ],
      "text/plain": [
       "      kegg level_1 level_2\n",
       "5   K01361      NA      NA\n",
       "6   K01360      NA      NA\n",
       "8   K01362      NA      NA\n",
       "9   K09173      NA      NA\n",
       "12  K05841      NA      NA"
      ]
     },
     "execution_count": 132,
     "metadata": {},
     "output_type": "execute_result"
    }
   ],
   "source": [
    "KOresult[KOresult.iloc[:,2] == \"NA\"].head()"
   ]
  },
  {
   "cell_type": "code",
   "execution_count": 135,
   "metadata": {
    "collapsed": false
   },
   "outputs": [],
   "source": [
    "KOresult.to_csv(\"../data/KO_levels.csv\", index = False)"
   ]
  },
  {
   "cell_type": "markdown",
   "metadata": {},
   "source": [
    "## Deal with missing KEGG Orthology's (NA) "
   ]
  },
  {
   "cell_type": "code",
   "execution_count": 75,
   "metadata": {
    "collapsed": false
   },
   "outputs": [],
   "source": [
    "na_keggs = metabolism_level_1_df[metabolism_level_1_df.iloc[:,1] == 'NA']\n",
    "na_keggs_list = list(na_keggs.iloc[:,0])"
   ]
  },
  {
   "cell_type": "code",
   "execution_count": 89,
   "metadata": {
    "collapsed": false
   },
   "outputs": [
    {
     "data": {
      "text/plain": [
       "['K01361', 'K01360', 'K01362', 'K09173']"
      ]
     },
     "execution_count": 89,
     "metadata": {},
     "output_type": "execute_result"
    }
   ],
   "source": [
    "na_keggs_list[0:4]"
   ]
  },
  {
   "cell_type": "markdown",
   "metadata": {},
   "source": [
    "## Find KEGGs that have BRITE level"
   ]
  },
  {
   "cell_type": "code",
   "execution_count": 96,
   "metadata": {
    "collapsed": false
   },
   "outputs": [],
   "source": [
    "brite_level = {}\n",
    "for i, kegg in enumerate(na_keggs_list):\n",
    "    if kegg == 'K88':\n",
    "        continue\n",
    "    match = re.search(u'BRITE.*', kegg_queries[kegg])\n",
    "    if match:\n",
    "        brite_level[kegg] = match.group().split(\"BRITE\")[1].strip()\n",
    "    else:\n",
    "        brite_level[kegg] = 'NA'"
   ]
  },
  {
   "cell_type": "code",
   "execution_count": 97,
   "metadata": {
    "collapsed": false
   },
   "outputs": [],
   "source": [
    "brite_level_df = pd.DataFrame(brite_level.items())"
   ]
  },
  {
   "cell_type": "code",
   "execution_count": 98,
   "metadata": {
    "collapsed": false
   },
   "outputs": [
    {
     "data": {
      "text/html": [
       "<div>\n",
       "<table border=\"1\" class=\"dataframe\">\n",
       "  <thead>\n",
       "    <tr style=\"text-align: right;\">\n",
       "      <th></th>\n",
       "      <th>0</th>\n",
       "      <th>1</th>\n",
       "    </tr>\n",
       "  </thead>\n",
       "  <tbody>\n",
       "    <tr>\n",
       "      <th>0</th>\n",
       "      <td>K00184</td>\n",
       "      <td>NA</td>\n",
       "    </tr>\n",
       "    <tr>\n",
       "      <th>1</th>\n",
       "      <td>K00185</td>\n",
       "      <td>NA</td>\n",
       "    </tr>\n",
       "    <tr>\n",
       "      <th>2</th>\n",
       "      <td>K00183</td>\n",
       "      <td>NA</td>\n",
       "    </tr>\n",
       "    <tr>\n",
       "      <th>3</th>\n",
       "      <td>K00180</td>\n",
       "      <td>Enzymes [BR:ko01000]</td>\n",
       "    </tr>\n",
       "    <tr>\n",
       "      <th>4</th>\n",
       "      <td>K01361</td>\n",
       "      <td>Enzymes [BR:ko01000]</td>\n",
       "    </tr>\n",
       "  </tbody>\n",
       "</table>\n",
       "</div>"
      ],
      "text/plain": [
       "        0                     1\n",
       "0  K00184                    NA\n",
       "1  K00185                    NA\n",
       "2  K00183                    NA\n",
       "3  K00180  Enzymes [BR:ko01000]\n",
       "4  K01361  Enzymes [BR:ko01000]"
      ]
     },
     "execution_count": 98,
     "metadata": {},
     "output_type": "execute_result"
    }
   ],
   "source": [
    "brite_level_df.head()"
   ]
  },
  {
   "cell_type": "code",
   "execution_count": 99,
   "metadata": {
    "collapsed": false
   },
   "outputs": [
    {
     "data": {
      "text/plain": [
       "array(['NA', u'Enzymes [BR:ko01000]',\n",
       "       u'Transcription factors [BR:ko03000]',\n",
       "       u'Secretion system [BR:ko02044]',\n",
       "       u'G protein-coupled receptors [BR:ko04030]',\n",
       "       u'GTP-binding proteins [BR:ko04031]', u'Transporters [BR:ko02000]',\n",
       "       u'Chaperones and folding catalysts [BR:ko03110]',\n",
       "       u'KEGG modules [BR:ko00002]', u'Ribosome biogenesis [BR:ko03009]',\n",
       "       u'Transfer RNA biogenesis [BR:ko03016]',\n",
       "       u'Polyketide biosynthesis proteins [BR:ko01008]',\n",
       "       u'Lectins [BR:ko04091]', u'Spliceosome [BR:ko03041]',\n",
       "       u'Ubiquitin system [BR:ko04121]', u'Proteoglycans [BR:ko00535]',\n",
       "       u'Prokaryotic defense system [BR:ko02048]',\n",
       "       u'Cell adhesion molecules and their ligands [BR:ko04516]',\n",
       "       u'Messenger RNA biogenesis [BR:ko03019]', u'Exosome [BR:ko04147]',\n",
       "       u'Chromosome [BR:ko03036]',\n",
       "       u'Lipopolysaccharide biosynthesis proteins [BR:ko01005]',\n",
       "       u'Ion channels [BR:ko04040]',\n",
       "       u'Transcription machinery [BR:ko03021]',\n",
       "       u'Protein phosphatases and associated proteins [BR:ko01009]',\n",
       "       u'Cytoskeleton proteins [BR:ko04812]',\n",
       "       u'Bacterial motility proteins [BR:ko02035]',\n",
       "       u'Lipid biosynthesis proteins [BR:ko01004]',\n",
       "       u'DNA repair and recombination proteins [BR:ko03400]',\n",
       "       u'DNA replication proteins [BR:ko03032]',\n",
       "       u'Cellular antigens [BR:ko04090]', u'Proteasome [BR:ko03051]',\n",
       "       u'Peptidases [BR:ko01002]', u'Two-component system [BR:ko02022]',\n",
       "       u'Translation factors [BR:ko03012]',\n",
       "       u'Mitochondrial biogenesis [BR:ko03029]', u'SNAREs [BR:ko04131]',\n",
       "       u'Bacterial toxins [BR:ko02042]', u'Cytochrome P450 [BR:ko00199]',\n",
       "       u'Glycosyltransferases [BR:ko01003]',\n",
       "       u'Amino acid related enzymes [BR:ko01007]',\n",
       "       u'Cytokines [BR:ko04052]', u'Cytokine receptors [BR:ko04050]',\n",
       "       u'Photosynthesis proteins [BR:ko00194]',\n",
       "       u'Protein kinases [BR:ko01001]',\n",
       "       u'Glycosaminoglycan binding proteins [BR:ko00536]'], dtype=object)"
      ]
     },
     "execution_count": 99,
     "metadata": {},
     "output_type": "execute_result"
    }
   ],
   "source": [
    "pd.unique(brite_level_df.iloc[:,1])"
   ]
  },
  {
   "cell_type": "code",
   "execution_count": 114,
   "metadata": {
    "collapsed": false
   },
   "outputs": [],
   "source": [
    "pd.DataFrame(pd.unique(brite_level_df.iloc[:,1])).to_csv(\"Brite_list.csv\", index = False)"
   ]
  },
  {
   "cell_type": "code",
   "execution_count": 112,
   "metadata": {
    "collapsed": false,
    "scrolled": true
   },
   "outputs": [
    {
     "data": {
      "text/html": [
       "<div>\n",
       "<table border=\"1\" class=\"dataframe\">\n",
       "  <thead>\n",
       "    <tr style=\"text-align: right;\">\n",
       "      <th></th>\n",
       "      <th>0</th>\n",
       "      <th>1</th>\n",
       "    </tr>\n",
       "  </thead>\n",
       "  <tbody>\n",
       "    <tr>\n",
       "      <th>9</th>\n",
       "      <td>K11909</td>\n",
       "      <td>Secretion system [BR:ko02044]</td>\n",
       "    </tr>\n",
       "    <tr>\n",
       "      <th>68</th>\n",
       "      <td>K02663</td>\n",
       "      <td>Secretion system [BR:ko02044]</td>\n",
       "    </tr>\n",
       "    <tr>\n",
       "      <th>203</th>\n",
       "      <td>K12276</td>\n",
       "      <td>Secretion system [BR:ko02044]</td>\n",
       "    </tr>\n",
       "    <tr>\n",
       "      <th>205</th>\n",
       "      <td>K12273</td>\n",
       "      <td>Secretion system [BR:ko02044]</td>\n",
       "    </tr>\n",
       "    <tr>\n",
       "      <th>207</th>\n",
       "      <td>K12271</td>\n",
       "      <td>Secretion system [BR:ko02044]</td>\n",
       "    </tr>\n",
       "  </tbody>\n",
       "</table>\n",
       "</div>"
      ],
      "text/plain": [
       "          0                              1\n",
       "9    K11909  Secretion system [BR:ko02044]\n",
       "68   K02663  Secretion system [BR:ko02044]\n",
       "203  K12276  Secretion system [BR:ko02044]\n",
       "205  K12273  Secretion system [BR:ko02044]\n",
       "207  K12271  Secretion system [BR:ko02044]"
      ]
     },
     "execution_count": 112,
     "metadata": {},
     "output_type": "execute_result"
    }
   ],
   "source": [
    "brite_level_df[brite_level_df.iloc[:,1] == 'Secretion system [BR:ko02044]'].head()"
   ]
  },
  {
   "cell_type": "code",
   "execution_count": 137,
   "metadata": {
    "collapsed": false
   },
   "outputs": [],
   "source": [
    "brite_level_df.columns = [\"kegg\", \"brite_level\"]"
   ]
  },
  {
   "cell_type": "code",
   "execution_count": 138,
   "metadata": {
    "collapsed": true
   },
   "outputs": [],
   "source": [
    "brite_level_df.to_csv(\"../data/BRITE_levels.csv\", index = False)"
   ]
  },
  {
   "cell_type": "code",
   "execution_count": null,
   "metadata": {
    "collapsed": true
   },
   "outputs": [],
   "source": []
  }
 ],
 "metadata": {
  "kernelspec": {
   "display_name": "Python 2",
   "language": "python",
   "name": "python2"
  },
  "language_info": {
   "codemirror_mode": {
    "name": "ipython",
    "version": 2
   },
   "file_extension": ".py",
   "mimetype": "text/x-python",
   "name": "python",
   "nbconvert_exporter": "python",
   "pygments_lexer": "ipython2",
   "version": "2.7.11"
  }
 },
 "nbformat": 4,
 "nbformat_minor": 0
}
