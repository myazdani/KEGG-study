{
 "cells": [
  {
   "cell_type": "code",
   "execution_count": 312,
   "metadata": {
    "collapsed": true
   },
   "outputs": [],
   "source": [
    "import cPickle as pickle\n",
    "from sklearn.feature_extraction.text import CountVectorizer\n",
    "from sklearn.feature_extraction.text import TfidfTransformer\n",
    "import pandas as pd\n",
    "from pylab import *\n",
    "from sklearn import preprocessing\n",
    "import collections\n",
    "from sklearn.grid_search import GridSearchCV"
   ]
  },
  {
   "cell_type": "code",
   "execution_count": 4,
   "metadata": {
    "collapsed": false
   },
   "outputs": [],
   "source": [
    "kegg_queries = pickle.load( open( \"../data/kegg_queries.p\", \"rb\" ) )"
   ]
  },
  {
   "cell_type": "code",
   "execution_count": 53,
   "metadata": {
    "collapsed": false
   },
   "outputs": [],
   "source": [
    "keggs = kegg_queries.keys()\n",
    "#kegg_lists = [str(k) for k in  kegg_queries.values()]\n",
    "kegg_lists = [str(kegg_queries[kegg]) for kegg in  keggs]"
   ]
  },
  {
   "cell_type": "code",
   "execution_count": 206,
   "metadata": {
    "collapsed": false
   },
   "outputs": [],
   "source": [
    "count_vect = CountVectorizer(min_df = 5, analyzer = \"word\", stop_words=\"english\")\n",
    "X_train_counts = count_vect.fit_transform(kegg_lists)"
   ]
  },
  {
   "cell_type": "code",
   "execution_count": 207,
   "metadata": {
    "collapsed": false
   },
   "outputs": [
    {
     "data": {
      "text/plain": [
       "(10193, 15881)"
      ]
     },
     "execution_count": 207,
     "metadata": {},
     "output_type": "execute_result"
    }
   ],
   "source": [
    "X_train_counts.shape"
   ]
  },
  {
   "cell_type": "code",
   "execution_count": 208,
   "metadata": {
    "collapsed": true
   },
   "outputs": [],
   "source": [
    "\n",
    "tf_transformer = TfidfTransformer(use_idf=False).fit(X_train_counts)"
   ]
  },
  {
   "cell_type": "code",
   "execution_count": 209,
   "metadata": {
    "collapsed": false
   },
   "outputs": [
    {
     "data": {
      "text/plain": [
       "(10193, 15881)"
      ]
     },
     "execution_count": 209,
     "metadata": {},
     "output_type": "execute_result"
    }
   ],
   "source": [
    "X_train_tf = tf_transformer.transform(X_train_counts)\n",
    "X_train_tf.shape"
   ]
  },
  {
   "cell_type": "code",
   "execution_count": 88,
   "metadata": {
    "collapsed": false
   },
   "outputs": [
    {
     "data": {
      "text/html": [
       "<div>\n",
       "<table border=\"1\" class=\"dataframe\">\n",
       "  <thead>\n",
       "    <tr style=\"text-align: right;\">\n",
       "      <th></th>\n",
       "      <th>kegg</th>\n",
       "      <th>level_1</th>\n",
       "      <th>level_2</th>\n",
       "      <th>BRITE_id</th>\n",
       "      <th>X</th>\n",
       "      <th>LS001</th>\n",
       "      <th>LS002</th>\n",
       "      <th>LS003</th>\n",
       "      <th>LS004</th>\n",
       "      <th>LS005</th>\n",
       "      <th>...</th>\n",
       "      <th>HE.SRS017103</th>\n",
       "      <th>HE.SRS017433</th>\n",
       "      <th>HE.SRS018427</th>\n",
       "      <th>HE.SRS018656</th>\n",
       "      <th>HE.SRS020328</th>\n",
       "      <th>HE.SRS020869</th>\n",
       "      <th>HE.SRS022713</th>\n",
       "      <th>HE.SRS016585.suspect</th>\n",
       "      <th>over</th>\n",
       "      <th>kegg.selected</th>\n",
       "    </tr>\n",
       "  </thead>\n",
       "  <tbody>\n",
       "    <tr>\n",
       "      <th>0</th>\n",
       "      <td>K00001</td>\n",
       "      <td>Metabolism</td>\n",
       "      <td>Overview</td>\n",
       "      <td>NaN</td>\n",
       "      <td>K00001(alcohol_dehydrogenase)</td>\n",
       "      <td>0.005732</td>\n",
       "      <td>0.006140</td>\n",
       "      <td>0.006243</td>\n",
       "      <td>0.005962</td>\n",
       "      <td>0.008011</td>\n",
       "      <td>...</td>\n",
       "      <td>0.003359</td>\n",
       "      <td>0.004281</td>\n",
       "      <td>0.003052</td>\n",
       "      <td>0.003625</td>\n",
       "      <td>0.002673</td>\n",
       "      <td>0.003999</td>\n",
       "      <td>0.003734</td>\n",
       "      <td>8.220359e-03</td>\n",
       "      <td>0.542</td>\n",
       "      <td>0 Test set</td>\n",
       "    </tr>\n",
       "    <tr>\n",
       "      <th>1</th>\n",
       "      <td>K00002</td>\n",
       "      <td>Metabolism</td>\n",
       "      <td>Overview</td>\n",
       "      <td>NaN</td>\n",
       "      <td>K00002(alcohol_dehydrogenase_(NADP+))</td>\n",
       "      <td>0.000382</td>\n",
       "      <td>0.000409</td>\n",
       "      <td>0.000610</td>\n",
       "      <td>0.000533</td>\n",
       "      <td>0.000313</td>\n",
       "      <td>...</td>\n",
       "      <td>0.000071</td>\n",
       "      <td>0.000014</td>\n",
       "      <td>0.000248</td>\n",
       "      <td>0.000649</td>\n",
       "      <td>0.000151</td>\n",
       "      <td>0.000157</td>\n",
       "      <td>0.000000</td>\n",
       "      <td>4.812945e-07</td>\n",
       "      <td>0.218</td>\n",
       "      <td>0 Test set</td>\n",
       "    </tr>\n",
       "    <tr>\n",
       "      <th>2</th>\n",
       "      <td>K00003</td>\n",
       "      <td>Metabolism</td>\n",
       "      <td>Overview</td>\n",
       "      <td>NaN</td>\n",
       "      <td>K00003(homoserine_dehydrogenase)</td>\n",
       "      <td>0.000855</td>\n",
       "      <td>0.001034</td>\n",
       "      <td>0.001125</td>\n",
       "      <td>0.001074</td>\n",
       "      <td>0.001224</td>\n",
       "      <td>...</td>\n",
       "      <td>0.000249</td>\n",
       "      <td>0.000131</td>\n",
       "      <td>0.000351</td>\n",
       "      <td>0.000676</td>\n",
       "      <td>0.000430</td>\n",
       "      <td>0.000318</td>\n",
       "      <td>0.000050</td>\n",
       "      <td>1.209999e-06</td>\n",
       "      <td>0.294</td>\n",
       "      <td>1 Used for KS selection</td>\n",
       "    </tr>\n",
       "    <tr>\n",
       "      <th>3</th>\n",
       "      <td>K00004</td>\n",
       "      <td>Metabolism</td>\n",
       "      <td>Carbohydrate metabolism</td>\n",
       "      <td>NaN</td>\n",
       "      <td>K00004((R,R)-butanediol_dehydrogenase_/_diacet...</td>\n",
       "      <td>0.000091</td>\n",
       "      <td>0.000106</td>\n",
       "      <td>0.000149</td>\n",
       "      <td>0.000116</td>\n",
       "      <td>0.000064</td>\n",
       "      <td>...</td>\n",
       "      <td>0.000008</td>\n",
       "      <td>0.000008</td>\n",
       "      <td>0.000014</td>\n",
       "      <td>0.000039</td>\n",
       "      <td>0.000068</td>\n",
       "      <td>0.000010</td>\n",
       "      <td>0.000006</td>\n",
       "      <td>4.127393e-04</td>\n",
       "      <td>0.202</td>\n",
       "      <td>1 Used for KS selection</td>\n",
       "    </tr>\n",
       "    <tr>\n",
       "      <th>4</th>\n",
       "      <td>K00005</td>\n",
       "      <td>Metabolism</td>\n",
       "      <td>Carbohydrate metabolism</td>\n",
       "      <td>NaN</td>\n",
       "      <td>K00005(glycerol_dehydrogenase)</td>\n",
       "      <td>0.000167</td>\n",
       "      <td>0.000236</td>\n",
       "      <td>0.000223</td>\n",
       "      <td>0.000203</td>\n",
       "      <td>0.000218</td>\n",
       "      <td>...</td>\n",
       "      <td>0.000030</td>\n",
       "      <td>0.000004</td>\n",
       "      <td>0.000034</td>\n",
       "      <td>0.000036</td>\n",
       "      <td>0.000055</td>\n",
       "      <td>0.000065</td>\n",
       "      <td>0.000000</td>\n",
       "      <td>2.158647e-04</td>\n",
       "      <td>0.028</td>\n",
       "      <td>1 Used for KS selection</td>\n",
       "    </tr>\n",
       "  </tbody>\n",
       "</table>\n",
       "<p>5 rows × 70 columns</p>\n",
       "</div>"
      ],
      "text/plain": [
       "     kegg     level_1                  level_2 BRITE_id  \\\n",
       "0  K00001  Metabolism                 Overview      NaN   \n",
       "1  K00002  Metabolism                 Overview      NaN   \n",
       "2  K00003  Metabolism                 Overview      NaN   \n",
       "3  K00004  Metabolism  Carbohydrate metabolism      NaN   \n",
       "4  K00005  Metabolism  Carbohydrate metabolism      NaN   \n",
       "\n",
       "                                                   X     LS001     LS002  \\\n",
       "0                      K00001(alcohol_dehydrogenase)  0.005732  0.006140   \n",
       "1              K00002(alcohol_dehydrogenase_(NADP+))  0.000382  0.000409   \n",
       "2                   K00003(homoserine_dehydrogenase)  0.000855  0.001034   \n",
       "3  K00004((R,R)-butanediol_dehydrogenase_/_diacet...  0.000091  0.000106   \n",
       "4                     K00005(glycerol_dehydrogenase)  0.000167  0.000236   \n",
       "\n",
       "      LS003     LS004     LS005           ...             HE.SRS017103  \\\n",
       "0  0.006243  0.005962  0.008011           ...                 0.003359   \n",
       "1  0.000610  0.000533  0.000313           ...                 0.000071   \n",
       "2  0.001125  0.001074  0.001224           ...                 0.000249   \n",
       "3  0.000149  0.000116  0.000064           ...                 0.000008   \n",
       "4  0.000223  0.000203  0.000218           ...                 0.000030   \n",
       "\n",
       "   HE.SRS017433  HE.SRS018427  HE.SRS018656  HE.SRS020328  HE.SRS020869  \\\n",
       "0      0.004281      0.003052      0.003625      0.002673      0.003999   \n",
       "1      0.000014      0.000248      0.000649      0.000151      0.000157   \n",
       "2      0.000131      0.000351      0.000676      0.000430      0.000318   \n",
       "3      0.000008      0.000014      0.000039      0.000068      0.000010   \n",
       "4      0.000004      0.000034      0.000036      0.000055      0.000065   \n",
       "\n",
       "   HE.SRS022713  HE.SRS016585.suspect   over            kegg.selected  \n",
       "0      0.003734          8.220359e-03  0.542               0 Test set  \n",
       "1      0.000000          4.812945e-07  0.218               0 Test set  \n",
       "2      0.000050          1.209999e-06  0.294  1 Used for KS selection  \n",
       "3      0.000006          4.127393e-04  0.202  1 Used for KS selection  \n",
       "4      0.000000          2.158647e-04  0.028  1 Used for KS selection  \n",
       "\n",
       "[5 rows x 70 columns]"
      ]
     },
     "execution_count": 88,
     "metadata": {},
     "output_type": "execute_result"
    }
   ],
   "source": [
    "df = pd.read_csv(\"../data/keggs_RF_conf_scores.csv\")\n",
    "df.head()"
   ]
  },
  {
   "cell_type": "code",
   "execution_count": 128,
   "metadata": {
    "collapsed": false
   },
   "outputs": [],
   "source": [
    "kegg_labels = []\n",
    "for kegg in keggs:\n",
    "    if kegg in list(df.kegg):\n",
    "        kegg_score = df[df.kegg== kegg][\"over\"].item()\n",
    "        if kegg_score > 0.75: \n",
    "            kegg_labels.append(\"over\")\n",
    "        elif kegg_score < 0.25:\n",
    "            kegg_labels.append(\"under\")\n",
    "        else:\n",
    "            kegg_labels.append(\"neither\")\n",
    "    else:\n",
    "        kegg_labels.append(\"unknown\")"
   ]
  },
  {
   "cell_type": "code",
   "execution_count": 138,
   "metadata": {
    "collapsed": false
   },
   "outputs": [
    {
     "data": {
      "text/plain": [
       "10193"
      ]
     },
     "execution_count": 138,
     "metadata": {},
     "output_type": "execute_result"
    }
   ],
   "source": [
    "len(kegg_labels)"
   ]
  },
  {
   "cell_type": "code",
   "execution_count": 239,
   "metadata": {
    "collapsed": true
   },
   "outputs": [],
   "source": [
    "le = preprocessing.LabelEncoder()\n",
    "y_labels = le.fit_transform(kegg_labels)"
   ]
  },
  {
   "cell_type": "code",
   "execution_count": 240,
   "metadata": {
    "collapsed": false
   },
   "outputs": [
    {
     "data": {
      "text/plain": [
       "Counter({0: 7507, 2: 2057, 1: 448, 3: 181})"
      ]
     },
     "execution_count": 240,
     "metadata": {},
     "output_type": "execute_result"
    }
   ],
   "source": [
    "counter=collections.Counter(y_labels)\n",
    "counter"
   ]
  },
  {
   "cell_type": "code",
   "execution_count": 246,
   "metadata": {
    "collapsed": false
   },
   "outputs": [
    {
     "data": {
      "text/plain": [
       "Counter({'neither': 7507, 'under': 2057, 'over': 448, 'unknown': 181})"
      ]
     },
     "execution_count": 246,
     "metadata": {},
     "output_type": "execute_result"
    }
   ],
   "source": [
    "counter=collections.Counter(kegg_labels)\n",
    "counter"
   ]
  },
  {
   "cell_type": "code",
   "execution_count": 241,
   "metadata": {
    "collapsed": false
   },
   "outputs": [
    {
     "data": {
      "text/plain": [
       "0.72706759540861376"
      ]
     },
     "execution_count": 241,
     "metadata": {},
     "output_type": "execute_result"
    }
   ],
   "source": [
    "from sklearn.naive_bayes import MultinomialNB\n",
    "clf = MultinomialNB().fit(X_train_counts, y_labels)\n",
    "predicted = clf.predict(X_train_counts)\n",
    "mean(predicted == y_labels)"
   ]
  },
  {
   "cell_type": "code",
   "execution_count": 242,
   "metadata": {
    "collapsed": false
   },
   "outputs": [
    {
     "data": {
      "text/plain": [
       "0.84979888158540173"
      ]
     },
     "execution_count": 242,
     "metadata": {},
     "output_type": "execute_result"
    }
   ],
   "source": [
    "from sklearn.linear_model import SGDClassifier\n",
    "clf = SGDClassifier(loss='log', penalty='l2',alpha=1e-1, n_iter=100, random_state=42)\n",
    "clf.fit(X_train_counts, y_labels)\n",
    "predicted = clf.predict(X_train_counts)\n",
    "mean(predicted == y_labels)"
   ]
  },
  {
   "cell_type": "code",
   "execution_count": 243,
   "metadata": {
    "collapsed": true
   },
   "outputs": [],
   "source": [
    "from sklearn import metrics"
   ]
  },
  {
   "cell_type": "code",
   "execution_count": 245,
   "metadata": {
    "collapsed": false
   },
   "outputs": [
    {
     "name": "stdout",
     "output_type": "stream",
     "text": [
      "             precision    recall  f1-score   support\n",
      "\n",
      "          0       0.86      0.96      0.91      7507\n",
      "          1       1.00      0.14      0.24       448\n",
      "          2       0.79      0.59      0.68      2057\n",
      "          3       1.00      0.99      1.00       181\n",
      "\n",
      "avg / total       0.85      0.85      0.83     10193\n",
      "\n"
     ]
    }
   ],
   "source": [
    "print(metrics.classification_report(y_labels, predicted))"
   ]
  },
  {
   "cell_type": "code",
   "execution_count": 248,
   "metadata": {
    "collapsed": true
   },
   "outputs": [],
   "source": [
    "from sklearn import cross_validation\n",
    "from sklearn.pipeline import Pipeline"
   ]
  },
  {
   "cell_type": "code",
   "execution_count": 308,
   "metadata": {
    "collapsed": true
   },
   "outputs": [],
   "source": [
    "text_clf = Pipeline([('vect', CountVectorizer(min_df = 5, analyzer = \"word\", stop_words=\"english\")),\n",
    "                     ('tfidf', TfidfTransformer(use_idf=False)),\n",
    "                     ('clf', SGDClassifier(loss='log', penalty='l2',\n",
    "                                           alpha=1e-5, n_iter=100, random_state=42))])"
   ]
  },
  {
   "cell_type": "code",
   "execution_count": 313,
   "metadata": {
    "collapsed": true
   },
   "outputs": [],
   "source": [
    "parameters = {'tfidf__use_idf': (True, False),\n",
    "              'clf__alpha': (1e-1, 1e-3, 1e-4, 1e-5, 1e-6, 1e-7)}"
   ]
  },
  {
   "cell_type": "code",
   "execution_count": 309,
   "metadata": {
    "collapsed": false
   },
   "outputs": [],
   "source": [
    "#scores = cross_validation.cross_val_score(text_clf, kegg_lists, y_labels, cv = 10, scoring=\"f1_weighted\", n_jobs=-1)\n",
    "gs_clf = GridSearchCV(text_clf, parameters, cv=10, n_jobs=1, scoring = \"f1_weighted\")"
   ]
  },
  {
   "cell_type": "code",
   "execution_count": 310,
   "metadata": {
    "collapsed": false
   },
   "outputs": [
    {
     "data": {
      "text/plain": [
       "0.76953054964137024"
      ]
     },
     "execution_count": 310,
     "metadata": {},
     "output_type": "execute_result"
    }
   ],
   "source": [
    "mean(scores)"
   ]
  },
  {
   "cell_type": "code",
   "execution_count": 311,
   "metadata": {
    "collapsed": false
   },
   "outputs": [
    {
     "data": {
      "text/plain": [
       "0.011550940579644047"
      ]
     },
     "execution_count": 311,
     "metadata": {},
     "output_type": "execute_result"
    }
   ],
   "source": [
    "sqrt(var(scores))"
   ]
  },
  {
   "cell_type": "code",
   "execution_count": null,
   "metadata": {
    "collapsed": true
   },
   "outputs": [],
   "source": []
  }
 ],
 "metadata": {
  "kernelspec": {
   "display_name": "Python 2",
   "language": "python",
   "name": "python2"
  },
  "language_info": {
   "codemirror_mode": {
    "name": "ipython",
    "version": 2
   },
   "file_extension": ".py",
   "mimetype": "text/x-python",
   "name": "python",
   "nbconvert_exporter": "python",
   "pygments_lexer": "ipython2",
   "version": "2.7.11"
  }
 },
 "nbformat": 4,
 "nbformat_minor": 0
}
