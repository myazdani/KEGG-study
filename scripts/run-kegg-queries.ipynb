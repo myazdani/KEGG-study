{
 "cells": [
  {
   "cell_type": "code",
   "execution_count": 1,
   "metadata": {
    "collapsed": true
   },
   "outputs": [],
   "source": [
    "import cPickle as pickle"
   ]
  },
  {
   "cell_type": "markdown",
   "metadata": {},
   "source": [
    "## load KEGG queries"
   ]
  },
  {
   "cell_type": "code",
   "execution_count": 2,
   "metadata": {
    "collapsed": true
   },
   "outputs": [],
   "source": [
    "kegg_queries = pickle.load( open( \"../data/kegg_queries.p\", \"rb\" ) )"
   ]
  },
  {
   "cell_type": "markdown",
   "metadata": {},
   "source": [
    "## print some of the KEGG IDs"
   ]
  },
  {
   "cell_type": "code",
   "execution_count": 3,
   "metadata": {
    "collapsed": false
   },
   "outputs": [
    {
     "data": {
      "text/plain": [
       "['K02040', 'K01369', 'K01368', 'K01365']"
      ]
     },
     "execution_count": 3,
     "metadata": {},
     "output_type": "execute_result"
    }
   ],
   "source": [
    "keggs = kegg_queries.keys()\n",
    "keggs[:4]"
   ]
  },
  {
   "cell_type": "code",
   "execution_count": 4,
   "metadata": {
    "collapsed": false
   },
   "outputs": [
    {
     "data": {
      "text/plain": [
       "u'ENTRY       K08173                      KO\\nNAME        ydfJ\\nDEFINITION  MFS transporter, MHS family, metabolite:H+ symporter\\nBRITE       Transporters [BR:ko02000]\\n             Major Facilitator Superfamily (MFS)\\n              Organic acid transporters\\n               Metabolite:H+ symporter (MHS) family\\n                K08173  ydfJ; MFS transporter, MHS family, metabolite:H+ symporter\\nDBLINKS     COG: COG0477\\n            TC: 2.A.1.6\\nGENES       ECJ: JW1536(ydfJ)\\n            ECD: ECDH10B_1674(ydfJ)\\n            ECE: Z2153(ydfJ)\\n            ECS: ECs2152\\n            ECF: ECH74115_2159(ydfJ)\\n            ETW: ECSP_2030(ydfJ)\\n            ELX: CDCO157_1993\\n            EOI: ECO111_1946(ydfJ)\\n            EOH: ECO103_1682(ydfJ)\\n            ECG: E2348C_1663(ydfJ)\\n            EOK: G2583_1910(ydfJ)\\n            ELR: ECO55CA74_09375\\n            ECC: c1969(ydfJ) c5022\\n            ECP: ECP_1527\\n            ECI: UTI89_C4621\\n            ECV: APECO1_2419\\n            ECX: EcHS_A1633(ydfJ)\\n            ECW: EcE24377A_1752(ydfJ)\\n            ECM: EcSMS35_1103 EcSMS35_1621(ydfJ)\\n            ECY: ECSE_1639\\n            ECR: ECIAI1_1562(ydfJ)\\n            ECK: EC55989_1684(ydfJ)\\n            ECT: ECIAI39_1846(ydfJ)\\n            EOC: CE10_1779\\n            EUM: ECUMN_1810(ydfJ)\\n            ECZ: ECS88_4525\\n            ELO: EC042_1675\\n            ELN: NRG857_07645\\n            ELH: ETEC_1613\\n            ESE: ECSF_1438\\n            ESO: O3O_12910\\n            ESM: O3M_12685\\n            ESL: O3K_12725\\n            ECL: EcolC_2115\\n            EBR: ECB_01502(ydfJ)\\n            EBD: ECBD_2096\\n            EKO: EKO11_2266\\n            EAB: ECABU_c17750(ydfJ) ECABU_c45760\\n            EDH: EcDH1_2102\\n            EDJ: ECDH1ME8569_1486(ydfJ)\\n            EIH: ECOK1_1696 ECOK1_4538\\n            ENA: ECNA114_1624(ydfJ)\\n            ELU: UM146_09275 UM146_20370\\n            EUN: UMNK88_1970\\n            ELL: WFL_08225(ydfJ)\\n            ELC: i14_1792(ydfJ) i14_4607\\n            ELD: i02_1792(ydfJ) i02_4607\\n            ELP: P12B_c1534(ydfJ)\\n            EBL: ECD_01502(ydfJ)\\n            EBE: B21_01513(ydfJ)\\n            ELF: LF82_2832(ydfJ)\\n            ECOA: APECO78_11500\\n            ECOL: LY180_07925\\n            ECOI: ECOPMV1_01674 ECOPMV1_04488(yhjE_3)\\n            ECOJ: P423_08460\\n            ECOO: ECRM13514_1847(ydfJ)\\n            ECOH: ECRM13516_1909(ydfJ)\\n            EAL: EAKF1_ch4495(ydfJ)\\n            STY: STY1554\\n            STT: t1428\\n            SEX: STBHUCCB_15160\\n            SENT: TY21A_07230\\n            STM: STM0212\\n            SEM: STMDT12_C15210 STMDT12_C15220\\n            SEJ: STMUK_1470 STMUK_1471\\n            SETC: CFSAN001921_09590 CFSAN001921_09595\\n            SENR: STMDT2_14341\\n            SEND: DT104_14771\\n            SEEN: SE451236_13410 SE451236_13415\\n            SPT: SPA0218 SPA1348(ydfJ)\\n            SEK: SSPA1253\\n            SPQ: SPAB_01803\\n            SEC: SCH_1524(ydfJ)\\n            SEH: SeHA_C1677\\n            SHB: SU5_02118\\n            SENH: CFSAN002069_01460\\n            SEEH: SEEH1578_16755\\n            SEE: SNSL254_A1618\\n            SENN: SN31241_25780\\n            SEW: SeSA_A1609\\n            SEA: SeAg_B1665\\n            SENS: Q786_07710\\n            SED: SeD_A1831\\n            SEL: SPUL_1323\\n            SEGA: SPUCDC_1323\\n            SET: SEN1543A\\n            SENA: AU38_07975\\n            SENO: AU37_07975\\n            SENV: AU39_07985\\n            SENQ: AU40_08935\\n            SENL: IY59_08170\\n            SENJ: CFSAN001992_04045\\n            SEEC: CFSAN002050_13935\\n            SEEB: SEEB0189_011990\\n            SEEP: I137_06130\\n            SENB: BN855_15470(ydfJ)\\n            SENE: IA1_07455\\n            SENC: SEET0819_14200\\n            SES: SARI_01443\\n            SBG: SBG_1334\\n            SBZ: A464_1527\\n            SBV: N643_06385\\n            YEN: YE3588\\n            YEP: YE105_C3233\\n            YEY: Y11_23801\\n            YEW: CH47_23\\n            YET: CH48_2378\\n            YEF: FORC2_0668\\n            YEE: YE5303_03711\\n            YAL: AT01_1885\\n            YFR: AW19_2544\\n            YKR: CH54_3243\\n            YRO: CH64_1929\\n            YAK: ACZ76_05640\\n            SFL: SF1552\\n            SFV: SFV_1547\\n            SFE: SFxv_1740\\n            SFN: SFy_2226\\n            SFS: SFyv_2279\\n            SFT: NCTC1_01681(proP_1)\\n            SDY: SDY_1582\\n            SDZ: Asd1617_02121\\n            ECA: ECA0919\\n            PATR: EV46_04245\\n            PATO: GZ59_08570\\n            PCT: PC1_0804\\n            PCC: PCC21_003020 PCC21_008300\\n            PCV: BCS7_04115\\n            PWA: Pecwa_1038\\n            PEC: W5S_0932\\n            ETA: ETA_05980\\n            EPY: EpC_06010\\n            EPR: EPYR_00630(ydfJ)\\n            EAM: EAMY_3043(ydfJ)\\n            EAY: EAM_0557\\n            EBI: EbC_05620\\n            ERJ: EJP617_04990\\n            ENT: Ent638_1934\\n            ENC: ECL_02181\\n            ENO: ECENHK_10195\\n            EEC: EcWSU1_02017(ydfJ)\\n            ENL: A3UG_10215\\n            ECLG: EC036_19830\\n            ECLE: ECNIH2_10745\\n            ECLN: ECNIH4_12530\\n            ECLI: ECNIH5_09875\\n            ECLX: LI66_10095\\n            ECLY: LI62_10880\\n            ECLZ: LI64_10245\\n            ECLA: ECNIH3_09885\\n            ECLC: ECR091_09860\\n            ESC: Entcl_2318\\n            EAS: Entas_2008\\n            EAU: DI57_08710\\n            EAE: EAE_18430\\n            EAR: CCG30204\\n            ENX: NI40_010315\\n            CTU: CTU_22000(ydfJ)\\n            KOX: KOX_21510\\n            KOE: A225_3173\\n            KOY: J415_16075\\n            KOK: KONIH1_15560\\n            KOM: HR38_19810\\n            KMI: VW41_10440 VW41_22815\\n            CKO: CKO_01573 CKO_02661\\n            CRO: ROD_14821\\n            CFD: CFNIH1_17605\\n            CAMA: F384_06815 F384_15715\\n            SPE: Spro_4465\\n            SRL: SOD_c42740(ydfJ)\\n            SRY: M621_23325\\n            SMW: SMWW4_v1c44330\\n            SMAR: SM39_3919\\n            SMAC: SMDB11_3720\\n            SLQ: M495_22485\\n            SERF: L085_06055\\n            SERS: SERRSCBI_21410\\n            SFW: WN53_00500\\n            SFO: Z042_13795\\n            DDA: Dd703_2637\\n            DDD: Dda3937_01657(ydfJ)\\n            DZE: Dd1591_1268\\n            XBV: XBW1_4492(ydfJ)\\n            XNE: XNC1_0427(ydfJ)\\n            XNM: XNC2_0418(ydfJ)\\n            XDO: XDD1_0385(ydfJ)\\n            PAM: PANA_0595(ydfJ) PANA_0606(ydfJ)\\n            PLF: PANA5342_3709(ydfJ1) PANA5342_3721(ydfJ3)\\n            PAJ: PAJ_3732(ydfJ) PAJ_3742(ydfJ)\\n            PAQ: PAGR_g3592 PAGR_g3603\\n            PVA: Pvag_0021(ydfJ)\\n            PAO: Pat9b_0569\\n            KLN: LH22_19370\\n            PANT: PSNIH1_07980\\n            EBT: EBL_c21620(ydfJ)\\n            ROR: RORB6_05615 RORB6_12880\\n            RON: TE10_15630\\n            CNT: JT31_13155\\n            CEM: LH23_04550\\n            CEN: LH86_04495\\n            PGE: LG71_08665 LG71_16465\\n            PFQ: QQ39_01480 QQ39_12040\\n            EBF: D782_2222\\n            PSTS: E05_35020\\n            PPW: PputW619_3115\\n            PPSY: AOC04_06590\\n            AVN: Avin_46710\\n            AVL: AvCA_46710\\n            AVD: AvCA6_46710\\n            GAP: GAPWK_0542\\n            SALV: SALWKB2_1945\\n            REU: Reut_C6090\\n            BUR: Bcep18194_A3726\\n            BCT: GEM_2881\\n            BGP: BGL_1c19320 BGL_1c20890\\n            BGD: bgla_2g07130\\n            BGO: BM43_3489\\n            BUO: BRPE64_ECDS01170\\n            BPLA: bpln_1g17650 bpln_1g19340\\n            BXE: Bxe_B0699\\n            BFN: OI25_6761\\n            VEI: Veis_4283\\n            CJE: Cj0339\\n            CJB: BN148_0339\\n            CJJ: CJJ81176_0363\\n            CJU: C8J_0316\\n            CJN: ICDCCJ07001_310\\n            CJI: CJSA_0313\\n            CJM: CJM1_0319\\n            CJS: CJS3_0326\\n            CJP: A911_01640\\n            CJEJ: N564_00323\\n            CJEU: N565_00374\\n            CJEN: N755_00374\\n            CJEI: N135_00385\\n            CJER: H730_02245\\n            CJV: MTVDSCj20_0311\\n            CJY: QZ67_00340(proP_2)\\n            CJQ: UC78_0328(proP_2)\\n            CJW: PJ18_01630\\n            CJR: CJE0384\\n            CJZ: M635_05995 M635_06005\\n            CJX: BN867_03140\\n            CLA: Cla_1342\\n            CLR: UPTC16701_1312\\n            CLM: UPTC16712_1335\\n            CLQ: UPTC4110_1318\\n            CLN: UPTC3659_1552\\n            CLL: CONCH_1293\\n            CPEL: CPEL_1444\\n            CAMR: CAQ16704_1347\\n            MNO: Mnod_0650\\n            BID: Bind_0627\\n            GDI: GDI1199\\n            GDJ: Gdia_1912\\n            GXY: GLX_01140\\n            ABG: Asbog_01336\\n            CCK: Ccar_12050\\n            MSM: MSMEG_2912 MSMEG_3421\\n            MSG: MSMEI_2839 MSMEI_3342\\n            MSB: LJ00_14490 LJ00_17025\\n            MSN: LI99_14495 LI99_17030\\n            MSH: LI98_14500 LI98_17035\\n            MGO: AFA91_22675 AFA91_25305\\n            RHA: RHA1_ro04139\\n            ROP: ROP_34280 ROP_40710\\n            ROA: Pd630_LPD00537 Pd630_LPD03641 Pd630_LPD14033\\n            SXI: SXIM_53370\\n            SAMB: SAM23877_6557(ydfJ)\\n            MTS: MTES_1190(ydfJ)\\n            MIM: AKG07_12905\\n            ARR: ARUE_c25810(shiA6)\\n            ARM: ART_1141\\n            ARI: UM93_11695\\n            ARE: AL755_14455\\n            ARH: AHiyo8_59780\\n            AAU: AAur_2426\\n            ACH: Achl_0216 Achl_1002\\n            SKE: Sked_02410\\n            NDA: Ndas_3276\\n            NML: Namu_4783\\n            KRA: Krad_2130\\n            SEN: SACE_4938(ydfJ)\\n            PSEE: FRP1_05250\\n            PSEQ: AD006_12885\\n            AMI: Amir_5058\\n            ASG: FB03_06060\\n            AMY: ADJ76_07915\\n///\\n'"
      ]
     },
     "execution_count": 4,
     "metadata": {},
     "output_type": "execute_result"
    }
   ],
   "source": [
    "kegg_queries['K08173']"
   ]
  },
  {
   "cell_type": "code",
   "execution_count": 5,
   "metadata": {
    "collapsed": true
   },
   "outputs": [],
   "source": [
    "import pandas as pd"
   ]
  },
  {
   "cell_type": "code",
   "execution_count": 8,
   "metadata": {
    "collapsed": true
   },
   "outputs": [],
   "source": [
    "ks_keggs = pd.read_clipboard()"
   ]
  },
  {
   "cell_type": "code",
   "execution_count": 9,
   "metadata": {
    "collapsed": false
   },
   "outputs": [
    {
     "data": {
      "text/html": [
       "<div>\n",
       "<table border=\"1\" class=\"dataframe\">\n",
       "  <thead>\n",
       "    <tr style=\"text-align: right;\">\n",
       "      <th></th>\n",
       "      <th>.id</th>\n",
       "    </tr>\n",
       "  </thead>\n",
       "  <tbody>\n",
       "    <tr>\n",
       "      <th>0</th>\n",
       "      <td>K03480</td>\n",
       "    </tr>\n",
       "    <tr>\n",
       "      <th>1</th>\n",
       "      <td>K03483</td>\n",
       "    </tr>\n",
       "    <tr>\n",
       "      <th>2</th>\n",
       "      <td>K03750</td>\n",
       "    </tr>\n",
       "    <tr>\n",
       "      <th>3</th>\n",
       "      <td>K03753</td>\n",
       "    </tr>\n",
       "    <tr>\n",
       "      <th>4</th>\n",
       "      <td>K06351</td>\n",
       "    </tr>\n",
       "    <tr>\n",
       "      <th>5</th>\n",
       "      <td>K07469</td>\n",
       "    </tr>\n",
       "    <tr>\n",
       "      <th>6</th>\n",
       "      <td>K09963</td>\n",
       "    </tr>\n",
       "    <tr>\n",
       "      <th>7</th>\n",
       "      <td>K00712</td>\n",
       "    </tr>\n",
       "    <tr>\n",
       "      <th>8</th>\n",
       "      <td>K12257</td>\n",
       "    </tr>\n",
       "    <tr>\n",
       "      <th>9</th>\n",
       "      <td>K13683</td>\n",
       "    </tr>\n",
       "    <tr>\n",
       "      <th>10</th>\n",
       "      <td>K00971</td>\n",
       "    </tr>\n",
       "    <tr>\n",
       "      <th>11</th>\n",
       "      <td>K01847</td>\n",
       "    </tr>\n",
       "    <tr>\n",
       "      <th>12</th>\n",
       "      <td>K12111</td>\n",
       "    </tr>\n",
       "    <tr>\n",
       "      <th>13</th>\n",
       "      <td>K01206</td>\n",
       "    </tr>\n",
       "    <tr>\n",
       "      <th>14</th>\n",
       "      <td>K07696</td>\n",
       "    </tr>\n",
       "    <tr>\n",
       "      <th>15</th>\n",
       "      <td>K01412</td>\n",
       "    </tr>\n",
       "    <tr>\n",
       "      <th>16</th>\n",
       "      <td>K02199</td>\n",
       "    </tr>\n",
       "    <tr>\n",
       "      <th>17</th>\n",
       "      <td>K01711</td>\n",
       "    </tr>\n",
       "    <tr>\n",
       "      <th>18</th>\n",
       "      <td>K02199</td>\n",
       "    </tr>\n",
       "    <tr>\n",
       "      <th>19</th>\n",
       "      <td>K00957</td>\n",
       "    </tr>\n",
       "    <tr>\n",
       "      <th>20</th>\n",
       "      <td>K13002</td>\n",
       "    </tr>\n",
       "    <tr>\n",
       "      <th>21</th>\n",
       "      <td>K07757</td>\n",
       "    </tr>\n",
       "    <tr>\n",
       "      <th>22</th>\n",
       "      <td>K10793</td>\n",
       "    </tr>\n",
       "    <tr>\n",
       "      <th>23</th>\n",
       "      <td>K02794</td>\n",
       "    </tr>\n",
       "    <tr>\n",
       "      <th>24</th>\n",
       "      <td>K03475</td>\n",
       "    </tr>\n",
       "    <tr>\n",
       "      <th>25</th>\n",
       "      <td>K04028</td>\n",
       "    </tr>\n",
       "    <tr>\n",
       "      <th>26</th>\n",
       "      <td>K06924</td>\n",
       "    </tr>\n",
       "    <tr>\n",
       "      <th>27</th>\n",
       "      <td>K12527</td>\n",
       "    </tr>\n",
       "  </tbody>\n",
       "</table>\n",
       "</div>"
      ],
      "text/plain": [
       "       .id\n",
       "0   K03480\n",
       "1   K03483\n",
       "2   K03750\n",
       "3   K03753\n",
       "4   K06351\n",
       "5   K07469\n",
       "6   K09963\n",
       "7   K00712\n",
       "8   K12257\n",
       "9   K13683\n",
       "10  K00971\n",
       "11  K01847\n",
       "12  K12111\n",
       "13  K01206\n",
       "14  K07696\n",
       "15  K01412\n",
       "16  K02199\n",
       "17  K01711\n",
       "18  K02199\n",
       "19  K00957\n",
       "20  K13002\n",
       "21  K07757\n",
       "22  K10793\n",
       "23  K02794\n",
       "24  K03475\n",
       "25  K04028\n",
       "26  K06924\n",
       "27  K12527"
      ]
     },
     "execution_count": 9,
     "metadata": {},
     "output_type": "execute_result"
    }
   ],
   "source": [
    "ks_keggs"
   ]
  },
  {
   "cell_type": "code",
   "execution_count": 10,
   "metadata": {
    "collapsed": false
   },
   "outputs": [
    {
     "name": "stdout",
     "output_type": "stream",
     "text": [
      "K03480\n",
      "K03483\n",
      "K03750\n",
      "K03753\n",
      "K06351\n",
      "K07469\n",
      "K09963\n",
      "K00712\n",
      "K12257\n",
      "K13683\n",
      "K00971\n",
      "K01847\n",
      "K12111\n",
      "K01206\n",
      "K07696\n",
      "K01412\n",
      "K02199\n",
      "K01711\n",
      "K02199\n",
      "K00957\n",
      "K13002\n",
      "K07757\n",
      "K10793\n",
      "K02794\n",
      "K03475\n",
      "K04028\n",
      "K06924\n",
      "K12527\n"
     ]
    }
   ],
   "source": [
    "for ks_kegg in list(ks_keggs['.id']):\n",
    "    print ks_kegg\n",
    "    res = kegg_queries[ks_kegg]\n",
    "    with open(\"test.txt\", \"a\") as myfile:\n",
    "        myfile.write(res)"
   ]
  },
  {
   "cell_type": "code",
   "execution_count": null,
   "metadata": {
    "collapsed": true
   },
   "outputs": [],
   "source": []
  }
 ],
 "metadata": {
  "kernelspec": {
   "display_name": "Python 2",
   "language": "python",
   "name": "python2"
  },
  "language_info": {
   "codemirror_mode": {
    "name": "ipython",
    "version": 2
   },
   "file_extension": ".py",
   "mimetype": "text/x-python",
   "name": "python",
   "nbconvert_exporter": "python",
   "pygments_lexer": "ipython2",
   "version": "2.7.11"
  }
 },
 "nbformat": 4,
 "nbformat_minor": 0
}
