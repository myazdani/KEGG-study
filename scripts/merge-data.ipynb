{
 "cells": [
  {
   "cell_type": "code",
   "execution_count": 1,
   "metadata": {
    "collapsed": true
   },
   "outputs": [],
   "source": [
    "import pandas as pd"
   ]
  },
  {
   "cell_type": "markdown",
   "metadata": {},
   "source": [
    "## Load all data"
   ]
  },
  {
   "cell_type": "code",
   "execution_count": 2,
   "metadata": {
    "collapsed": false
   },
   "outputs": [
    {
     "data": {
      "text/html": [
       "<div>\n",
       "<table border=\"1\" class=\"dataframe\">\n",
       "  <thead>\n",
       "    <tr style=\"text-align: right;\">\n",
       "      <th></th>\n",
       "      <th>kegg</th>\n",
       "      <th>level_1</th>\n",
       "      <th>level_2</th>\n",
       "    </tr>\n",
       "  </thead>\n",
       "  <tbody>\n",
       "    <tr>\n",
       "      <th>0</th>\n",
       "      <td>K01369</td>\n",
       "      <td>Cellular Processes</td>\n",
       "      <td>Transport and catabolism</td>\n",
       "    </tr>\n",
       "    <tr>\n",
       "      <th>1</th>\n",
       "      <td>K01368</td>\n",
       "      <td>Cellular Processes</td>\n",
       "      <td>Transport and catabolism</td>\n",
       "    </tr>\n",
       "    <tr>\n",
       "      <th>2</th>\n",
       "      <td>K01365</td>\n",
       "      <td>Cellular Processes</td>\n",
       "      <td>Transport and catabolism</td>\n",
       "    </tr>\n",
       "    <tr>\n",
       "      <th>3</th>\n",
       "      <td>K01364</td>\n",
       "      <td>Human Diseases</td>\n",
       "      <td>Drug resistance</td>\n",
       "    </tr>\n",
       "    <tr>\n",
       "      <th>4</th>\n",
       "      <td>K01366</td>\n",
       "      <td>Cellular Processes</td>\n",
       "      <td>Transport and catabolism</td>\n",
       "    </tr>\n",
       "  </tbody>\n",
       "</table>\n",
       "</div>"
      ],
      "text/plain": [
       "     kegg             level_1                   level_2\n",
       "0  K01369  Cellular Processes  Transport and catabolism\n",
       "1  K01368  Cellular Processes  Transport and catabolism\n",
       "2  K01365  Cellular Processes  Transport and catabolism\n",
       "3  K01364      Human Diseases           Drug resistance\n",
       "4  K01366  Cellular Processes  Transport and catabolism"
      ]
     },
     "execution_count": 2,
     "metadata": {},
     "output_type": "execute_result"
    }
   ],
   "source": [
    "df_KO = pd.read_csv(\"../data/KO_levels.csv\")\n",
    "df_KO.head()"
   ]
  },
  {
   "cell_type": "code",
   "execution_count": 3,
   "metadata": {
    "collapsed": false
   },
   "outputs": [
    {
     "data": {
      "text/html": [
       "<div>\n",
       "<table border=\"1\" class=\"dataframe\">\n",
       "  <thead>\n",
       "    <tr style=\"text-align: right;\">\n",
       "      <th></th>\n",
       "      <th>kegg</th>\n",
       "      <th>brite_level</th>\n",
       "    </tr>\n",
       "  </thead>\n",
       "  <tbody>\n",
       "    <tr>\n",
       "      <th>0</th>\n",
       "      <td>K00184</td>\n",
       "      <td>NaN</td>\n",
       "    </tr>\n",
       "    <tr>\n",
       "      <th>1</th>\n",
       "      <td>K00185</td>\n",
       "      <td>NaN</td>\n",
       "    </tr>\n",
       "    <tr>\n",
       "      <th>2</th>\n",
       "      <td>K00183</td>\n",
       "      <td>NaN</td>\n",
       "    </tr>\n",
       "    <tr>\n",
       "      <th>3</th>\n",
       "      <td>K00180</td>\n",
       "      <td>Enzymes [BR:ko01000]</td>\n",
       "    </tr>\n",
       "    <tr>\n",
       "      <th>4</th>\n",
       "      <td>K01361</td>\n",
       "      <td>Enzymes [BR:ko01000]</td>\n",
       "    </tr>\n",
       "  </tbody>\n",
       "</table>\n",
       "</div>"
      ],
      "text/plain": [
       "     kegg           brite_level\n",
       "0  K00184                   NaN\n",
       "1  K00185                   NaN\n",
       "2  K00183                   NaN\n",
       "3  K00180  Enzymes [BR:ko01000]\n",
       "4  K01361  Enzymes [BR:ko01000]"
      ]
     },
     "execution_count": 3,
     "metadata": {},
     "output_type": "execute_result"
    }
   ],
   "source": [
    "df_brite = pd.read_csv(\"../data/BRITE_levels.csv\")\n",
    "df_brite.head()"
   ]
  },
  {
   "cell_type": "code",
   "execution_count": 55,
   "metadata": {
    "collapsed": false
   },
   "outputs": [
    {
     "data": {
      "text/html": [
       "<div>\n",
       "<table border=\"1\" class=\"dataframe\">\n",
       "  <thead>\n",
       "    <tr style=\"text-align: right;\">\n",
       "      <th></th>\n",
       "      <th>BRITE_id</th>\n",
       "      <th>brite_level_1</th>\n",
       "      <th>brite_level_2</th>\n",
       "    </tr>\n",
       "  </thead>\n",
       "  <tbody>\n",
       "    <tr>\n",
       "      <th>0</th>\n",
       "      <td>ko03029</td>\n",
       "      <td>Genetic Information Processing</td>\n",
       "      <td>Translation</td>\n",
       "    </tr>\n",
       "    <tr>\n",
       "      <th>1</th>\n",
       "      <td>ko00199</td>\n",
       "      <td>Metabolism</td>\n",
       "      <td>Enzyme families</td>\n",
       "    </tr>\n",
       "    <tr>\n",
       "      <th>2</th>\n",
       "      <td>ko04050</td>\n",
       "      <td>Environmental Information Processing</td>\n",
       "      <td>Signaling molecules and interaction</td>\n",
       "    </tr>\n",
       "    <tr>\n",
       "      <th>3</th>\n",
       "      <td>ko00194</td>\n",
       "      <td>Metabolism</td>\n",
       "      <td>Energy metabolism</td>\n",
       "    </tr>\n",
       "    <tr>\n",
       "      <th>4</th>\n",
       "      <td>ko04121</td>\n",
       "      <td>Genetic Information Processing</td>\n",
       "      <td>Folding, sorting and degradation</td>\n",
       "    </tr>\n",
       "  </tbody>\n",
       "</table>\n",
       "</div>"
      ],
      "text/plain": [
       "  BRITE_id                         brite_level_1  \\\n",
       "0  ko03029        Genetic Information Processing   \n",
       "1  ko00199                            Metabolism   \n",
       "2  ko04050  Environmental Information Processing   \n",
       "3  ko00194                            Metabolism   \n",
       "4  ko04121        Genetic Information Processing   \n",
       "\n",
       "                         brite_level_2  \n",
       "0                          Translation  \n",
       "1                      Enzyme families  \n",
       "2  Signaling molecules and interaction  \n",
       "3                    Energy metabolism  \n",
       "4     Folding, sorting and degradation  "
      ]
     },
     "execution_count": 55,
     "metadata": {},
     "output_type": "execute_result"
    }
   ],
   "source": [
    "df_brite_key = pd.read_csv(\"../data/BRITE_key_levels.csv\")\n",
    "df_brite_key.columns = ['BRITE_id', 'brite_level_1', 'brite_level_2']\n",
    "df_brite_key.head()"
   ]
  },
  {
   "cell_type": "code",
   "execution_count": 56,
   "metadata": {
    "collapsed": false
   },
   "outputs": [
    {
     "data": {
      "text/html": [
       "<div>\n",
       "<table border=\"1\" class=\"dataframe\">\n",
       "  <thead>\n",
       "    <tr style=\"text-align: right;\">\n",
       "      <th></th>\n",
       "      <th>0</th>\n",
       "    </tr>\n",
       "  </thead>\n",
       "  <tbody>\n",
       "    <tr>\n",
       "      <th>0</th>\n",
       "      <td>NaN</td>\n",
       "    </tr>\n",
       "    <tr>\n",
       "      <th>1</th>\n",
       "      <td>Enzymes [BR:ko01000]</td>\n",
       "    </tr>\n",
       "    <tr>\n",
       "      <th>2</th>\n",
       "      <td>Transcription factors [BR:ko03000]</td>\n",
       "    </tr>\n",
       "    <tr>\n",
       "      <th>3</th>\n",
       "      <td>Secretion system [BR:ko02044]</td>\n",
       "    </tr>\n",
       "    <tr>\n",
       "      <th>4</th>\n",
       "      <td>G protein-coupled receptors [BR:ko04030]</td>\n",
       "    </tr>\n",
       "  </tbody>\n",
       "</table>\n",
       "</div>"
      ],
      "text/plain": [
       "                                          0\n",
       "0                                       NaN\n",
       "1                      Enzymes [BR:ko01000]\n",
       "2        Transcription factors [BR:ko03000]\n",
       "3             Secretion system [BR:ko02044]\n",
       "4  G protein-coupled receptors [BR:ko04030]"
      ]
     },
     "execution_count": 56,
     "metadata": {},
     "output_type": "execute_result"
    }
   ],
   "source": [
    "df_brite_level_names = pd.read_csv(\"../data/Brite_list.csv\")\n",
    "df_brite_level_names.head()"
   ]
  },
  {
   "cell_type": "code",
   "execution_count": 57,
   "metadata": {
    "collapsed": false
   },
   "outputs": [
    {
     "data": {
      "text/html": [
       "<div>\n",
       "<table border=\"1\" class=\"dataframe\">\n",
       "  <thead>\n",
       "    <tr style=\"text-align: right;\">\n",
       "      <th></th>\n",
       "      <th>brite_name</th>\n",
       "    </tr>\n",
       "  </thead>\n",
       "  <tbody>\n",
       "    <tr>\n",
       "      <th>0</th>\n",
       "      <td>NaN</td>\n",
       "    </tr>\n",
       "    <tr>\n",
       "      <th>1</th>\n",
       "      <td>Enzymes [BR:ko01000]</td>\n",
       "    </tr>\n",
       "    <tr>\n",
       "      <th>2</th>\n",
       "      <td>Transcription factors [BR:ko03000]</td>\n",
       "    </tr>\n",
       "    <tr>\n",
       "      <th>3</th>\n",
       "      <td>Secretion system [BR:ko02044]</td>\n",
       "    </tr>\n",
       "    <tr>\n",
       "      <th>4</th>\n",
       "      <td>G protein-coupled receptors [BR:ko04030]</td>\n",
       "    </tr>\n",
       "  </tbody>\n",
       "</table>\n",
       "</div>"
      ],
      "text/plain": [
       "                                 brite_name\n",
       "0                                       NaN\n",
       "1                      Enzymes [BR:ko01000]\n",
       "2        Transcription factors [BR:ko03000]\n",
       "3             Secretion system [BR:ko02044]\n",
       "4  G protein-coupled receptors [BR:ko04030]"
      ]
     },
     "execution_count": 57,
     "metadata": {},
     "output_type": "execute_result"
    }
   ],
   "source": [
    "df_brite_level_names.columns = [\"brite_name\"]\n",
    "df_brite_level_names.head()"
   ]
  },
  {
   "cell_type": "code",
   "execution_count": 58,
   "metadata": {
    "collapsed": false
   },
   "outputs": [],
   "source": [
    "BRITE_id = list(df_brite_level_names[\"brite_name\"][1:].apply(lambda row: row.split(\"BR:\")[1][:-1]))\n",
    "BRITE_id.insert(0, 'unknown')"
   ]
  },
  {
   "cell_type": "code",
   "execution_count": 59,
   "metadata": {
    "collapsed": false
   },
   "outputs": [],
   "source": [
    "df_brite_level_names[\"BRITE_id\"] = pd.Series(BRITE_id)"
   ]
  },
  {
   "cell_type": "code",
   "execution_count": 60,
   "metadata": {
    "collapsed": false
   },
   "outputs": [
    {
     "data": {
      "text/html": [
       "<div>\n",
       "<table border=\"1\" class=\"dataframe\">\n",
       "  <thead>\n",
       "    <tr style=\"text-align: right;\">\n",
       "      <th></th>\n",
       "      <th>brite_name</th>\n",
       "      <th>BRITE_id</th>\n",
       "    </tr>\n",
       "  </thead>\n",
       "  <tbody>\n",
       "    <tr>\n",
       "      <th>0</th>\n",
       "      <td>NaN</td>\n",
       "      <td>unknown</td>\n",
       "    </tr>\n",
       "    <tr>\n",
       "      <th>1</th>\n",
       "      <td>Enzymes [BR:ko01000]</td>\n",
       "      <td>ko01000</td>\n",
       "    </tr>\n",
       "    <tr>\n",
       "      <th>2</th>\n",
       "      <td>Transcription factors [BR:ko03000]</td>\n",
       "      <td>ko03000</td>\n",
       "    </tr>\n",
       "    <tr>\n",
       "      <th>3</th>\n",
       "      <td>Secretion system [BR:ko02044]</td>\n",
       "      <td>ko02044</td>\n",
       "    </tr>\n",
       "    <tr>\n",
       "      <th>4</th>\n",
       "      <td>G protein-coupled receptors [BR:ko04030]</td>\n",
       "      <td>ko04030</td>\n",
       "    </tr>\n",
       "  </tbody>\n",
       "</table>\n",
       "</div>"
      ],
      "text/plain": [
       "                                 brite_name BRITE_id\n",
       "0                                       NaN  unknown\n",
       "1                      Enzymes [BR:ko01000]  ko01000\n",
       "2        Transcription factors [BR:ko03000]  ko03000\n",
       "3             Secretion system [BR:ko02044]  ko02044\n",
       "4  G protein-coupled receptors [BR:ko04030]  ko04030"
      ]
     },
     "execution_count": 60,
     "metadata": {},
     "output_type": "execute_result"
    }
   ],
   "source": [
    "df_brite_level_names.head()"
   ]
  },
  {
   "cell_type": "markdown",
   "metadata": {},
   "source": [
    "## merge BRITE with BRITE key"
   ]
  },
  {
   "cell_type": "code",
   "execution_count": 61,
   "metadata": {
    "collapsed": false
   },
   "outputs": [
    {
     "name": "stdout",
     "output_type": "stream",
     "text": [
      "(46, 2)\n",
      "(44, 3)\n"
     ]
    }
   ],
   "source": [
    "print df_brite_level_names.shape\n",
    "print df_brite_key.shape"
   ]
  },
  {
   "cell_type": "code",
   "execution_count": 62,
   "metadata": {
    "collapsed": false
   },
   "outputs": [
    {
     "data": {
      "text/plain": [
       "['unknown', 'ko00002']"
      ]
     },
     "execution_count": 62,
     "metadata": {},
     "output_type": "execute_result"
    }
   ],
   "source": [
    "list(set(list(df_brite_level_names.BRITE_id)) - set(list(df_brite_key.BRITE_id)))"
   ]
  },
  {
   "cell_type": "code",
   "execution_count": 63,
   "metadata": {
    "collapsed": false
   },
   "outputs": [
    {
     "data": {
      "text/html": [
       "<div>\n",
       "<table border=\"1\" class=\"dataframe\">\n",
       "  <thead>\n",
       "    <tr style=\"text-align: right;\">\n",
       "      <th></th>\n",
       "      <th>BRITE_id</th>\n",
       "      <th>brite_level_1</th>\n",
       "      <th>brite_level_2</th>\n",
       "      <th>brite_name</th>\n",
       "    </tr>\n",
       "  </thead>\n",
       "  <tbody>\n",
       "    <tr>\n",
       "      <th>0</th>\n",
       "      <td>ko03029</td>\n",
       "      <td>Genetic Information Processing</td>\n",
       "      <td>Translation</td>\n",
       "      <td>Mitochondrial biogenesis [BR:ko03029]</td>\n",
       "    </tr>\n",
       "    <tr>\n",
       "      <th>1</th>\n",
       "      <td>ko00199</td>\n",
       "      <td>Metabolism</td>\n",
       "      <td>Enzyme families</td>\n",
       "      <td>Cytochrome P450 [BR:ko00199]</td>\n",
       "    </tr>\n",
       "    <tr>\n",
       "      <th>2</th>\n",
       "      <td>ko04050</td>\n",
       "      <td>Environmental Information Processing</td>\n",
       "      <td>Signaling molecules and interaction</td>\n",
       "      <td>Cytokine receptors [BR:ko04050]</td>\n",
       "    </tr>\n",
       "    <tr>\n",
       "      <th>3</th>\n",
       "      <td>ko00194</td>\n",
       "      <td>Metabolism</td>\n",
       "      <td>Energy metabolism</td>\n",
       "      <td>Photosynthesis proteins [BR:ko00194]</td>\n",
       "    </tr>\n",
       "    <tr>\n",
       "      <th>4</th>\n",
       "      <td>ko04121</td>\n",
       "      <td>Genetic Information Processing</td>\n",
       "      <td>Folding, sorting and degradation</td>\n",
       "      <td>Ubiquitin system [BR:ko04121]</td>\n",
       "    </tr>\n",
       "  </tbody>\n",
       "</table>\n",
       "</div>"
      ],
      "text/plain": [
       "  BRITE_id                         brite_level_1  \\\n",
       "0  ko03029        Genetic Information Processing   \n",
       "1  ko00199                            Metabolism   \n",
       "2  ko04050  Environmental Information Processing   \n",
       "3  ko00194                            Metabolism   \n",
       "4  ko04121        Genetic Information Processing   \n",
       "\n",
       "                         brite_level_2                             brite_name  \n",
       "0                          Translation  Mitochondrial biogenesis [BR:ko03029]  \n",
       "1                      Enzyme families           Cytochrome P450 [BR:ko00199]  \n",
       "2  Signaling molecules and interaction        Cytokine receptors [BR:ko04050]  \n",
       "3                    Energy metabolism   Photosynthesis proteins [BR:ko00194]  \n",
       "4     Folding, sorting and degradation          Ubiquitin system [BR:ko04121]  "
      ]
     },
     "execution_count": 63,
     "metadata": {},
     "output_type": "execute_result"
    }
   ],
   "source": [
    "df_brite_key_merge = pd.merge(df_brite_key, df_brite_level_names, how = 'outer')\n",
    "df_brite_key_merge.head()"
   ]
  },
  {
   "cell_type": "code",
   "execution_count": 64,
   "metadata": {
    "collapsed": false
   },
   "outputs": [
    {
     "data": {
      "text/plain": [
       "(46, 4)"
      ]
     },
     "execution_count": 64,
     "metadata": {},
     "output_type": "execute_result"
    }
   ],
   "source": [
    "df_brite_key_merge.shape"
   ]
  },
  {
   "cell_type": "code",
   "execution_count": 65,
   "metadata": {
    "collapsed": true
   },
   "outputs": [
    {
     "data": {
      "text/html": [
       "<div>\n",
       "<table border=\"1\" class=\"dataframe\">\n",
       "  <thead>\n",
       "    <tr style=\"text-align: right;\">\n",
       "      <th></th>\n",
       "      <th>kegg</th>\n",
       "      <th>brite_name</th>\n",
       "    </tr>\n",
       "  </thead>\n",
       "  <tbody>\n",
       "    <tr>\n",
       "      <th>0</th>\n",
       "      <td>K00184</td>\n",
       "      <td>NaN</td>\n",
       "    </tr>\n",
       "    <tr>\n",
       "      <th>1</th>\n",
       "      <td>K00185</td>\n",
       "      <td>NaN</td>\n",
       "    </tr>\n",
       "    <tr>\n",
       "      <th>2</th>\n",
       "      <td>K00183</td>\n",
       "      <td>NaN</td>\n",
       "    </tr>\n",
       "    <tr>\n",
       "      <th>3</th>\n",
       "      <td>K00180</td>\n",
       "      <td>Enzymes [BR:ko01000]</td>\n",
       "    </tr>\n",
       "    <tr>\n",
       "      <th>4</th>\n",
       "      <td>K01361</td>\n",
       "      <td>Enzymes [BR:ko01000]</td>\n",
       "    </tr>\n",
       "  </tbody>\n",
       "</table>\n",
       "</div>"
      ],
      "text/plain": [
       "     kegg            brite_name\n",
       "0  K00184                   NaN\n",
       "1  K00185                   NaN\n",
       "2  K00183                   NaN\n",
       "3  K00180  Enzymes [BR:ko01000]\n",
       "4  K01361  Enzymes [BR:ko01000]"
      ]
     },
     "execution_count": 65,
     "metadata": {},
     "output_type": "execute_result"
    }
   ],
   "source": [
    "df_brite.head()"
   ]
  },
  {
   "cell_type": "code",
   "execution_count": 66,
   "metadata": {
    "collapsed": false
   },
   "outputs": [
    {
     "data": {
      "text/html": [
       "<div>\n",
       "<table border=\"1\" class=\"dataframe\">\n",
       "  <thead>\n",
       "    <tr style=\"text-align: right;\">\n",
       "      <th></th>\n",
       "      <th>kegg</th>\n",
       "      <th>brite_name</th>\n",
       "    </tr>\n",
       "  </thead>\n",
       "  <tbody>\n",
       "    <tr>\n",
       "      <th>0</th>\n",
       "      <td>K00184</td>\n",
       "      <td>NaN</td>\n",
       "    </tr>\n",
       "    <tr>\n",
       "      <th>1</th>\n",
       "      <td>K00185</td>\n",
       "      <td>NaN</td>\n",
       "    </tr>\n",
       "    <tr>\n",
       "      <th>2</th>\n",
       "      <td>K00183</td>\n",
       "      <td>NaN</td>\n",
       "    </tr>\n",
       "    <tr>\n",
       "      <th>3</th>\n",
       "      <td>K00180</td>\n",
       "      <td>Enzymes [BR:ko01000]</td>\n",
       "    </tr>\n",
       "    <tr>\n",
       "      <th>4</th>\n",
       "      <td>K01361</td>\n",
       "      <td>Enzymes [BR:ko01000]</td>\n",
       "    </tr>\n",
       "  </tbody>\n",
       "</table>\n",
       "</div>"
      ],
      "text/plain": [
       "     kegg            brite_name\n",
       "0  K00184                   NaN\n",
       "1  K00185                   NaN\n",
       "2  K00183                   NaN\n",
       "3  K00180  Enzymes [BR:ko01000]\n",
       "4  K01361  Enzymes [BR:ko01000]"
      ]
     },
     "execution_count": 66,
     "metadata": {},
     "output_type": "execute_result"
    }
   ],
   "source": [
    "df_brite.columns = ['kegg', 'brite_name']\n",
    "df_brite.head()"
   ]
  },
  {
   "cell_type": "code",
   "execution_count": 67,
   "metadata": {
    "collapsed": false
   },
   "outputs": [],
   "source": [
    "df_brite_merge = pd.merge(df_brite, df_brite_key_merge)"
   ]
  },
  {
   "cell_type": "code",
   "execution_count": 68,
   "metadata": {
    "collapsed": false
   },
   "outputs": [
    {
     "name": "stdout",
     "output_type": "stream",
     "text": [
      "(4396, 5)\n"
     ]
    }
   ],
   "source": [
    "print df_brite_merge.shape"
   ]
  },
  {
   "cell_type": "code",
   "execution_count": 70,
   "metadata": {
    "collapsed": false,
    "scrolled": true
   },
   "outputs": [
    {
     "data": {
      "text/html": [
       "<div>\n",
       "<table border=\"1\" class=\"dataframe\">\n",
       "  <thead>\n",
       "    <tr style=\"text-align: right;\">\n",
       "      <th></th>\n",
       "      <th>kegg</th>\n",
       "      <th>brite_name</th>\n",
       "      <th>BRITE_id</th>\n",
       "      <th>brite_level_1</th>\n",
       "      <th>brite_level_2</th>\n",
       "    </tr>\n",
       "  </thead>\n",
       "  <tbody>\n",
       "    <tr>\n",
       "      <th>4391</th>\n",
       "      <td>K11724</td>\n",
       "      <td>Protein kinases [BR:ko01001]</td>\n",
       "      <td>ko01001</td>\n",
       "      <td>Metabolism</td>\n",
       "      <td>Enzyme families</td>\n",
       "    </tr>\n",
       "    <tr>\n",
       "      <th>4392</th>\n",
       "      <td>K11721</td>\n",
       "      <td>Protein kinases [BR:ko01001]</td>\n",
       "      <td>ko01001</td>\n",
       "      <td>Metabolism</td>\n",
       "      <td>Enzyme families</td>\n",
       "    </tr>\n",
       "    <tr>\n",
       "      <th>4393</th>\n",
       "      <td>K11722</td>\n",
       "      <td>Protein kinases [BR:ko01001]</td>\n",
       "      <td>ko01001</td>\n",
       "      <td>Metabolism</td>\n",
       "      <td>Enzyme families</td>\n",
       "    </tr>\n",
       "    <tr>\n",
       "      <th>4394</th>\n",
       "      <td>K08869</td>\n",
       "      <td>Protein kinases [BR:ko01001]</td>\n",
       "      <td>ko01001</td>\n",
       "      <td>Metabolism</td>\n",
       "      <td>Enzyme families</td>\n",
       "    </tr>\n",
       "    <tr>\n",
       "      <th>4395</th>\n",
       "      <td>K10077</td>\n",
       "      <td>Glycosaminoglycan binding proteins [BR:ko00536]</td>\n",
       "      <td>ko00536</td>\n",
       "      <td>Metabolism</td>\n",
       "      <td>Glycan biosynthesis and metabolism</td>\n",
       "    </tr>\n",
       "  </tbody>\n",
       "</table>\n",
       "</div>"
      ],
      "text/plain": [
       "        kegg                                       brite_name BRITE_id  \\\n",
       "4391  K11724                     Protein kinases [BR:ko01001]  ko01001   \n",
       "4392  K11721                     Protein kinases [BR:ko01001]  ko01001   \n",
       "4393  K11722                     Protein kinases [BR:ko01001]  ko01001   \n",
       "4394  K08869                     Protein kinases [BR:ko01001]  ko01001   \n",
       "4395  K10077  Glycosaminoglycan binding proteins [BR:ko00536]  ko00536   \n",
       "\n",
       "     brite_level_1                       brite_level_2  \n",
       "4391    Metabolism                     Enzyme families  \n",
       "4392    Metabolism                     Enzyme families  \n",
       "4393    Metabolism                     Enzyme families  \n",
       "4394    Metabolism                     Enzyme families  \n",
       "4395    Metabolism  Glycan biosynthesis and metabolism  "
      ]
     },
     "execution_count": 70,
     "metadata": {},
     "output_type": "execute_result"
    }
   ],
   "source": [
    "df_brite_merge.tail()"
   ]
  },
  {
   "cell_type": "code",
   "execution_count": 74,
   "metadata": {
    "collapsed": false
   },
   "outputs": [],
   "source": [
    "df_merge_KO_brite = pd.merge(df_KO, df_brite_merge, how = 'outer')"
   ]
  },
  {
   "cell_type": "code",
   "execution_count": 75,
   "metadata": {
    "collapsed": false
   },
   "outputs": [
    {
     "data": {
      "text/plain": [
       "(10012, 7)"
      ]
     },
     "execution_count": 75,
     "metadata": {},
     "output_type": "execute_result"
    }
   ],
   "source": [
    "df_merge_KO_brite.shape"
   ]
  },
  {
   "cell_type": "code",
   "execution_count": 79,
   "metadata": {
    "collapsed": false
   },
   "outputs": [
    {
     "data": {
      "text/html": [
       "<div>\n",
       "<table border=\"1\" class=\"dataframe\">\n",
       "  <thead>\n",
       "    <tr style=\"text-align: right;\">\n",
       "      <th></th>\n",
       "      <th>kegg</th>\n",
       "      <th>level_1</th>\n",
       "      <th>level_2</th>\n",
       "      <th>brite_name</th>\n",
       "      <th>BRITE_id</th>\n",
       "      <th>brite_level_1</th>\n",
       "      <th>brite_level_2</th>\n",
       "    </tr>\n",
       "  </thead>\n",
       "  <tbody>\n",
       "    <tr>\n",
       "      <th>0</th>\n",
       "      <td>K01369</td>\n",
       "      <td>Cellular Processes</td>\n",
       "      <td>Transport and catabolism</td>\n",
       "      <td>NaN</td>\n",
       "      <td>NaN</td>\n",
       "      <td>NaN</td>\n",
       "      <td>NaN</td>\n",
       "    </tr>\n",
       "    <tr>\n",
       "      <th>1</th>\n",
       "      <td>K01368</td>\n",
       "      <td>Cellular Processes</td>\n",
       "      <td>Transport and catabolism</td>\n",
       "      <td>NaN</td>\n",
       "      <td>NaN</td>\n",
       "      <td>NaN</td>\n",
       "      <td>NaN</td>\n",
       "    </tr>\n",
       "    <tr>\n",
       "      <th>2</th>\n",
       "      <td>K01365</td>\n",
       "      <td>Cellular Processes</td>\n",
       "      <td>Transport and catabolism</td>\n",
       "      <td>NaN</td>\n",
       "      <td>NaN</td>\n",
       "      <td>NaN</td>\n",
       "      <td>NaN</td>\n",
       "    </tr>\n",
       "    <tr>\n",
       "      <th>3</th>\n",
       "      <td>K01364</td>\n",
       "      <td>Human Diseases</td>\n",
       "      <td>Drug resistance</td>\n",
       "      <td>NaN</td>\n",
       "      <td>NaN</td>\n",
       "      <td>NaN</td>\n",
       "      <td>NaN</td>\n",
       "    </tr>\n",
       "    <tr>\n",
       "      <th>4</th>\n",
       "      <td>K01366</td>\n",
       "      <td>Cellular Processes</td>\n",
       "      <td>Transport and catabolism</td>\n",
       "      <td>NaN</td>\n",
       "      <td>NaN</td>\n",
       "      <td>NaN</td>\n",
       "      <td>NaN</td>\n",
       "    </tr>\n",
       "    <tr>\n",
       "      <th>5</th>\n",
       "      <td>K01361</td>\n",
       "      <td>NaN</td>\n",
       "      <td>NaN</td>\n",
       "      <td>Enzymes [BR:ko01000]</td>\n",
       "      <td>ko01000</td>\n",
       "      <td>Metabolism</td>\n",
       "      <td>Enzyme families</td>\n",
       "    </tr>\n",
       "    <tr>\n",
       "      <th>6</th>\n",
       "      <td>K01360</td>\n",
       "      <td>NaN</td>\n",
       "      <td>NaN</td>\n",
       "      <td>Enzymes [BR:ko01000]</td>\n",
       "      <td>ko01000</td>\n",
       "      <td>Metabolism</td>\n",
       "      <td>Enzyme families</td>\n",
       "    </tr>\n",
       "    <tr>\n",
       "      <th>7</th>\n",
       "      <td>K01363</td>\n",
       "      <td>Cellular Processes</td>\n",
       "      <td>Transport and catabolism</td>\n",
       "      <td>NaN</td>\n",
       "      <td>NaN</td>\n",
       "      <td>NaN</td>\n",
       "      <td>NaN</td>\n",
       "    </tr>\n",
       "    <tr>\n",
       "      <th>8</th>\n",
       "      <td>K01362</td>\n",
       "      <td>NaN</td>\n",
       "      <td>NaN</td>\n",
       "      <td>Enzymes [BR:ko01000]</td>\n",
       "      <td>ko01000</td>\n",
       "      <td>Metabolism</td>\n",
       "      <td>Enzyme families</td>\n",
       "    </tr>\n",
       "    <tr>\n",
       "      <th>9</th>\n",
       "      <td>K09173</td>\n",
       "      <td>NaN</td>\n",
       "      <td>NaN</td>\n",
       "      <td>Transcription factors [BR:ko03000]</td>\n",
       "      <td>ko03000</td>\n",
       "      <td>Genetic Information Processing</td>\n",
       "      <td>Transcription</td>\n",
       "    </tr>\n",
       "  </tbody>\n",
       "</table>\n",
       "</div>"
      ],
      "text/plain": [
       "     kegg             level_1                   level_2  \\\n",
       "0  K01369  Cellular Processes  Transport and catabolism   \n",
       "1  K01368  Cellular Processes  Transport and catabolism   \n",
       "2  K01365  Cellular Processes  Transport and catabolism   \n",
       "3  K01364      Human Diseases           Drug resistance   \n",
       "4  K01366  Cellular Processes  Transport and catabolism   \n",
       "5  K01361                 NaN                       NaN   \n",
       "6  K01360                 NaN                       NaN   \n",
       "7  K01363  Cellular Processes  Transport and catabolism   \n",
       "8  K01362                 NaN                       NaN   \n",
       "9  K09173                 NaN                       NaN   \n",
       "\n",
       "                           brite_name BRITE_id  \\\n",
       "0                                 NaN      NaN   \n",
       "1                                 NaN      NaN   \n",
       "2                                 NaN      NaN   \n",
       "3                                 NaN      NaN   \n",
       "4                                 NaN      NaN   \n",
       "5                Enzymes [BR:ko01000]  ko01000   \n",
       "6                Enzymes [BR:ko01000]  ko01000   \n",
       "7                                 NaN      NaN   \n",
       "8                Enzymes [BR:ko01000]  ko01000   \n",
       "9  Transcription factors [BR:ko03000]  ko03000   \n",
       "\n",
       "                    brite_level_1    brite_level_2  \n",
       "0                             NaN              NaN  \n",
       "1                             NaN              NaN  \n",
       "2                             NaN              NaN  \n",
       "3                             NaN              NaN  \n",
       "4                             NaN              NaN  \n",
       "5                      Metabolism  Enzyme families  \n",
       "6                      Metabolism  Enzyme families  \n",
       "7                             NaN              NaN  \n",
       "8                      Metabolism  Enzyme families  \n",
       "9  Genetic Information Processing    Transcription  "
      ]
     },
     "execution_count": 79,
     "metadata": {},
     "output_type": "execute_result"
    }
   ],
   "source": [
    "df_merge_KO_brite.head(10)"
   ]
  },
  {
   "cell_type": "code",
   "execution_count": 80,
   "metadata": {
    "collapsed": false
   },
   "outputs": [
    {
     "data": {
      "text/plain": [
       "array([nan, 'Metabolism', 'Genetic Information Processing',\n",
       "       'Environmental Information Processing', 'Cellular Processes'], dtype=object)"
      ]
     },
     "execution_count": 80,
     "metadata": {},
     "output_type": "execute_result"
    }
   ],
   "source": [
    "pd.unique(df_merge_KO_brite.brite_level_1)"
   ]
  },
  {
   "cell_type": "code",
   "execution_count": 81,
   "metadata": {
    "collapsed": false
   },
   "outputs": [
    {
     "data": {
      "text/plain": [
       "array(['Cellular Processes', 'Human Diseases', nan, 'Metabolism',\n",
       "       'Environmental Information Processing',\n",
       "       'Genetic Information Processing', 'Organismal Systems'], dtype=object)"
      ]
     },
     "execution_count": 81,
     "metadata": {},
     "output_type": "execute_result"
    }
   ],
   "source": [
    "pd.unique(df_merge_KO_brite.level_1)"
   ]
  },
  {
   "cell_type": "code",
   "execution_count": 83,
   "metadata": {
    "collapsed": true
   },
   "outputs": [],
   "source": [
    "df_merge_KO_brite.to_csv(\"../data/kegg_levels_final.csv\", index = False)"
   ]
  },
  {
   "cell_type": "code",
   "execution_count": null,
   "metadata": {
    "collapsed": true
   },
   "outputs": [],
   "source": []
  }
 ],
 "metadata": {
  "kernelspec": {
   "display_name": "Python 2",
   "language": "python",
   "name": "python2"
  },
  "language_info": {
   "codemirror_mode": {
    "name": "ipython",
    "version": 2
   },
   "file_extension": ".py",
   "mimetype": "text/x-python",
   "name": "python",
   "nbconvert_exporter": "python",
   "pygments_lexer": "ipython2",
   "version": "2.7.11"
  }
 },
 "nbformat": 4,
 "nbformat_minor": 0
}
