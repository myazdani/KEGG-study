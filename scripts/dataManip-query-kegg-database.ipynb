{
 "cells": [
  {
   "cell_type": "code",
   "execution_count": null,
   "metadata": {
    "collapsed": true
   },
   "outputs": [],
   "source": [
    "import pandas as pd\n",
    "import re\n",
    "from bioservices.kegg import KEGG"
   ]
  },
  {
   "cell_type": "code",
   "execution_count": null,
   "metadata": {
    "collapsed": true
   },
   "outputs": [],
   "source": [
    "k = KEGG()"
   ]
  },
  {
   "cell_type": "code",
   "execution_count": null,
   "metadata": {
    "collapsed": true
   },
   "outputs": [],
   "source": [
    "df = pd.read_csv(\"../data/table-kegg-clean.csv\")"
   ]
  },
  {
   "cell_type": "code",
   "execution_count": null,
   "metadata": {
    "collapsed": false
   },
   "outputs": [],
   "source": [
    "df.head()"
   ]
  },
  {
   "cell_type": "code",
   "execution_count": null,
   "metadata": {
    "collapsed": false
   },
   "outputs": [],
   "source": [
    "keggs = df.iloc[:,0]\n",
    "keggs = [kegg.split(\"(\" )[0] for kegg in keggs]\n",
    "print df.shape\n",
    "print len(keggs)"
   ]
  },
  {
   "cell_type": "code",
   "execution_count": null,
   "metadata": {
    "collapsed": false,
    "scrolled": true
   },
   "outputs": [],
   "source": [
    "kegg_queries = {}\n",
    "metabolism_level_1 = []\n",
    "metabolism_level_2 = []\n",
    "for i, kegg in enumerate(keggs):\n",
    "    if i%10 == 0:\n",
    "        print 'working on', i\n",
    "    kegg_query = k.get(kegg)\n",
    "    kegg_queries[kegg] = kegg_query\n",
    "    try:\n",
    "        match = re.search(u'KEGG Orthology \\(KO\\) .*\\\\n.*\\\\n.*', kegg_query)\n",
    "    except:\n",
    "        metabolism_level_1.append('404')\n",
    "        metabolism_level_2.append('404')\n",
    "    if match:\n",
    "        metabolism_level_1.append(match.group().split(\"\\n\")[1].strip())\n",
    "        metabolism_level_2.append(match.group().split(\"\\n\")[2].strip())\n",
    "    else:\n",
    "        metabolism_level_1.append('NA')\n",
    "        metabolism_level_2.append('NA')"
   ]
  },
  {
   "cell_type": "code",
   "execution_count": null,
   "metadata": {
    "collapsed": false
   },
   "outputs": [],
   "source": [
    "df[\"metabolism_level_1\"] = metabolism_level_1"
   ]
  },
  {
   "cell_type": "code",
   "execution_count": null,
   "metadata": {
    "collapsed": false
   },
   "outputs": [],
   "source": [
    "len(metabolism_level_1)"
   ]
  },
  {
   "cell_type": "code",
   "execution_count": null,
   "metadata": {
    "collapsed": false
   },
   "outputs": [],
   "source": [
    "df.shape"
   ]
  },
  {
   "cell_type": "code",
   "execution_count": null,
   "metadata": {
    "collapsed": false
   },
   "outputs": [],
   "source": [
    "kegg_queries"
   ]
  },
  {
   "cell_type": "code",
   "execution_count": null,
   "metadata": {
    "collapsed": false
   },
   "outputs": [],
   "source": [
    "metabolism_level_1_dict = {}\n",
    "metabolism_level_2_dict = {}\n",
    "\n",
    "kegg_queries.keys()[:4]"
   ]
  },
  {
   "cell_type": "code",
   "execution_count": null,
   "metadata": {
    "collapsed": false
   },
   "outputs": [],
   "source": [
    "metabolism_level_1_dict = {}\n",
    "metabolism_level_2_dict = {}\n",
    "\n",
    "\n",
    "for kegg_query in kegg_queries.keys():\n",
    "    if kegg_queries[kegg_query] == 404:\n",
    "        print kegg_query\n",
    "        metabolism_level_1_dict[kegg_query] = '404'\n",
    "        metabolism_level_2_dict[kegg_query] = '404'\n",
    "        continue  \n",
    "    print kegg_queries[kegg_query]\n",
    "    match = re.search(u'KEGG Orthology \\(KO\\) .*\\\\n.*\\\\n.*', kegg_queries[kegg_query])\n",
    "    if match:\n",
    "        metabolism_level_1_dict[kegg_query] = match.group().split(\"\\n\")[1].strip()\n",
    "        metabolism_level_2_dict[kegg_query] = match.group().split(\"\\n\")[2].strip()\n",
    "    else:\n",
    "        #print kegg_query\n",
    "        metabolism_level_1_dict[kegg_query] = 'NA'\n",
    "        metabolism_level_2_dict[kegg_query] = 'NA'"
   ]
  },
  {
   "cell_type": "code",
   "execution_count": null,
   "metadata": {
    "collapsed": false
   },
   "outputs": [],
   "source": [
    "k.get('K08567')"
   ]
  },
  {
   "cell_type": "code",
   "execution_count": null,
   "metadata": {
    "collapsed": false
   },
   "outputs": [],
   "source": [
    "type(kegg_queries['K01076'])"
   ]
  },
  {
   "cell_type": "code",
   "execution_count": null,
   "metadata": {
    "collapsed": false
   },
   "outputs": [],
   "source": [
    "if kegg_queries['K01076'] == 404:\n",
    "    print\"hi\""
   ]
  },
  {
   "cell_type": "code",
   "execution_count": null,
   "metadata": {
    "collapsed": true
   },
   "outputs": [],
   "source": [
    "import cPickle as pickle"
   ]
  },
  {
   "cell_type": "code",
   "execution_count": null,
   "metadata": {
    "collapsed": true
   },
   "outputs": [],
   "source": []
  }
 ],
 "metadata": {
  "kernelspec": {
   "display_name": "Python 2",
   "language": "python",
   "name": "python2"
  },
  "language_info": {
   "codemirror_mode": {
    "name": "ipython",
    "version": 2
   },
   "file_extension": ".py",
   "mimetype": "text/x-python",
   "name": "python",
   "nbconvert_exporter": "python",
   "pygments_lexer": "ipython2",
   "version": "2.7.11"
  }
 },
 "nbformat": 4,
 "nbformat_minor": 0
}
