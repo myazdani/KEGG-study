{
 "cells": [
  {
   "cell_type": "code",
   "execution_count": 1,
   "metadata": {
    "collapsed": true
   },
   "outputs": [],
   "source": [
    "import pandas as pd\n",
    "import re\n",
    "from bioservices.kegg import KEGG"
   ]
  },
  {
   "cell_type": "code",
   "execution_count": 2,
   "metadata": {
    "collapsed": true
   },
   "outputs": [],
   "source": [
    "k = KEGG()"
   ]
  },
  {
   "cell_type": "code",
   "execution_count": null,
   "metadata": {
    "collapsed": true
   },
   "outputs": [],
   "source": [
    "df = pd.read_csv(\"../data/table-kegg-clean.csv\")"
   ]
  },
  {
   "cell_type": "code",
   "execution_count": null,
   "metadata": {
    "collapsed": false
   },
   "outputs": [],
   "source": [
    "df.head()"
   ]
  },
  {
   "cell_type": "code",
   "execution_count": null,
   "metadata": {
    "collapsed": false
   },
   "outputs": [],
   "source": [
    "keggs = df.iloc[:,0]\n",
    "keggs = [kegg.split(\"(\" )[0] for kegg in keggs]\n",
    "print df.shape\n",
    "print len(keggs)"
   ]
  },
  {
   "cell_type": "code",
   "execution_count": null,
   "metadata": {
    "collapsed": false,
    "scrolled": true
   },
   "outputs": [],
   "source": [
    "kegg_queries = {}\n",
    "metabolism_level_1 = []\n",
    "metabolism_level_2 = []\n",
    "for i, kegg in enumerate(keggs):\n",
    "    if i%10 == 0:\n",
    "        print 'working on', i\n",
    "    kegg_query = k.get(kegg)\n",
    "    kegg_queries[kegg] = kegg_query\n",
    "    try:\n",
    "        match = re.search(u'KEGG Orthology \\(KO\\) .*\\\\n.*\\\\n.*', kegg_query)\n",
    "    except:\n",
    "        metabolism_level_1.append('404')\n",
    "        metabolism_level_2.append('404')\n",
    "    if match:\n",
    "        metabolism_level_1.append(match.group().split(\"\\n\")[1].strip())\n",
    "        metabolism_level_2.append(match.group().split(\"\\n\")[2].strip())\n",
    "    else:\n",
    "        metabolism_level_1.append('NA')\n",
    "        metabolism_level_2.append('NA')"
   ]
  },
  {
   "cell_type": "code",
   "execution_count": null,
   "metadata": {
    "collapsed": false
   },
   "outputs": [],
   "source": [
    "df[\"metabolism_level_1\"] = metabolism_level_1"
   ]
  },
  {
   "cell_type": "code",
   "execution_count": null,
   "metadata": {
    "collapsed": false
   },
   "outputs": [],
   "source": [
    "len(metabolism_level_1)"
   ]
  },
  {
   "cell_type": "code",
   "execution_count": null,
   "metadata": {
    "collapsed": false
   },
   "outputs": [],
   "source": [
    "df.shape"
   ]
  },
  {
   "cell_type": "code",
   "execution_count": null,
   "metadata": {
    "collapsed": false
   },
   "outputs": [],
   "source": [
    "kegg_queries"
   ]
  },
  {
   "cell_type": "code",
   "execution_count": null,
   "metadata": {
    "collapsed": false
   },
   "outputs": [],
   "source": [
    "metabolism_level_1_dict = {}\n",
    "metabolism_level_2_dict = {}\n",
    "\n",
    "kegg_queries.keys()[:4]"
   ]
  },
  {
   "cell_type": "code",
   "execution_count": null,
   "metadata": {
    "collapsed": false
   },
   "outputs": [],
   "source": [
    "metabolism_level_1_dict = {}\n",
    "metabolism_level_2_dict = {}\n",
    "\n",
    "\n",
    "for kegg_query in kegg_queries.keys():\n",
    "    if kegg_queries[kegg_query] == 404:\n",
    "        print kegg_query\n",
    "        metabolism_level_1_dict[kegg_query] = '404'\n",
    "        metabolism_level_2_dict[kegg_query] = '404'\n",
    "        continue  \n",
    "    print kegg_queries[kegg_query]\n",
    "    match = re.search(u'KEGG Orthology \\(KO\\) .*\\\\n.*\\\\n.*', kegg_queries[kegg_query])\n",
    "    if match:\n",
    "        metabolism_level_1_dict[kegg_query] = match.group().split(\"\\n\")[1].strip()\n",
    "        metabolism_level_2_dict[kegg_query] = match.group().split(\"\\n\")[2].strip()\n",
    "    else:\n",
    "        #print kegg_query\n",
    "        metabolism_level_1_dict[kegg_query] = 'NA'\n",
    "        metabolism_level_2_dict[kegg_query] = 'NA'"
   ]
  },
  {
   "cell_type": "code",
   "execution_count": 4,
   "metadata": {
    "collapsed": false
   },
   "outputs": [
    {
     "data": {
      "text/plain": [
       "u'ENTRY       C16361                      Compound\\nNAME        1,3,7-Trimethyluric acid;\\n            1,3,7-Trimethylurate\\nFORMULA     C8H10N4O3\\nEXACT_MASS  210.0753\\nMOL_WEIGHT  210.19\\nREACTION    R07980 R07981 R11153\\nPATHWAY     map00232  Caffeine metabolism\\n            map01120  Microbial metabolism in diverse environments\\nENZYME      1.7.3.3         1.14.13.212     1.17.5.2        1.17.5.-\\nBRITE       Phytochemical compounds [BR:br08003]\\n             Alkaloids\\n              Others\\n               Purine alkaloids\\n                C16361  1,3,7-Trimethyluric acid\\nDBLINKS     CAS: 5415-44-1\\n            PubChem: 47205669\\n            ChEBI: 691622\\n            NIKKAJI: J2.233K\\nATOM        15\\n            1   C8y C    28.5061  -24.0324\\n            2   C8y C    28.5061  -25.4579\\n            3   C8y C    29.7097  -23.3253\\n            4   N4y N    27.2031  -23.6000\\n            5   N4y N    29.7097  -26.1416\\n            6   N4x N    27.2031  -25.8904\\n            7   N4y N    30.9308  -24.0616\\n            8   O5x O    29.7097  -21.9464\\n            9   C8y C    26.3852  -24.7568\\n            10  C1a C    26.7707  -22.2736\\n            11  C8y C    30.9308  -25.4054\\n            12  C1a C    29.7097  -27.5731\\n            13  C1a C    32.1520  -23.3780\\n            14  O5x O    32.1811  -26.1066\\n            15  O5x O    24.9901  -24.7635\\nBOND        16\\n            1     1   2 2\\n            2     1   3 1\\n            3     1   4 1\\n            4     2   5 1\\n            5     2   6 1\\n            6     3   7 1\\n            7     3   8 2\\n            8     4   9 1\\n            9     4  10 1\\n            10    5  11 1\\n            11    5  12 1\\n            12    7  13 1\\n            13   11  14 2\\n            14    6   9 1\\n            15    7  11 1\\n            16    9  15 2\\n///\\n'"
      ]
     },
     "execution_count": 4,
     "metadata": {},
     "output_type": "execute_result"
    }
   ],
   "source": [
    "k.get('C16361')"
   ]
  },
  {
   "cell_type": "code",
   "execution_count": null,
   "metadata": {
    "collapsed": false
   },
   "outputs": [],
   "source": [
    "type(kegg_queries['K01076'])"
   ]
  },
  {
   "cell_type": "code",
   "execution_count": null,
   "metadata": {
    "collapsed": false
   },
   "outputs": [],
   "source": [
    "if kegg_queries['K01076'] == 404:\n",
    "    print\"hi\""
   ]
  },
  {
   "cell_type": "code",
   "execution_count": null,
   "metadata": {
    "collapsed": true
   },
   "outputs": [],
   "source": [
    "import cPickle as pickle"
   ]
  },
  {
   "cell_type": "code",
   "execution_count": null,
   "metadata": {
    "collapsed": true
   },
   "outputs": [],
   "source": []
  }
 ],
 "metadata": {
  "kernelspec": {
   "display_name": "Python 2",
   "language": "python",
   "name": "python2"
  },
  "language_info": {
   "codemirror_mode": {
    "name": "ipython",
    "version": 2
   },
   "file_extension": ".py",
   "mimetype": "text/x-python",
   "name": "python",
   "nbconvert_exporter": "python",
   "pygments_lexer": "ipython2",
   "version": "2.7.11"
  }
 },
 "nbformat": 4,
 "nbformat_minor": 0
}
