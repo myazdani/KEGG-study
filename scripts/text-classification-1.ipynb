{
 "cells": [
  {
   "cell_type": "code",
   "execution_count": 11,
   "metadata": {
    "collapsed": false
   },
   "outputs": [],
   "source": [
    "import matplotlib\n",
    "matplotlib.use('Agg')\n",
    "from pylab import *\n",
    "\n",
    "from sklearn import linear_model\n",
    "import cPickle as pickle\n",
    "from sklearn.feature_extraction.text import CountVectorizer\n",
    "from sklearn.feature_extraction.text import TfidfTransformer\n",
    "from sklearn.decomposition import NMF, LatentDirichletAllocation, TruncatedSVD\n",
    "import pandas as pd\n",
    "from sklearn import preprocessing\n",
    "import collections\n",
    "from sklearn.grid_search import GridSearchCV\n",
    "from sklearn.linear_model import SGDClassifier\n",
    "from sklearn.svm import SVC\n",
    "from sklearn.preprocessing import StandardScaler"
   ]
  },
  {
   "cell_type": "code",
   "execution_count": 2,
   "metadata": {
    "collapsed": false
   },
   "outputs": [],
   "source": [
    "kegg_queries = pickle.load( open( \"../data/kegg_queries.p\", \"rb\" ) )"
   ]
  },
  {
   "cell_type": "code",
   "execution_count": 3,
   "metadata": {
    "collapsed": false
   },
   "outputs": [],
   "source": [
    "keggs = kegg_queries.keys()\n",
    "#kegg_lists = [str(k) for k in  kegg_queries.values()]\n",
    "kegg_lists = [str(kegg_queries[kegg]) for kegg in  keggs]"
   ]
  },
  {
   "cell_type": "code",
   "execution_count": 4,
   "metadata": {
    "collapsed": false
   },
   "outputs": [
    {
     "data": {
      "text/html": [
       "<div>\n",
       "<table border=\"1\" class=\"dataframe\">\n",
       "  <thead>\n",
       "    <tr style=\"text-align: right;\">\n",
       "      <th></th>\n",
       "      <th>kegg</th>\n",
       "      <th>level_1</th>\n",
       "      <th>level_2</th>\n",
       "      <th>BRITE_id</th>\n",
       "      <th>X</th>\n",
       "      <th>LS001</th>\n",
       "      <th>LS002</th>\n",
       "      <th>LS003</th>\n",
       "      <th>LS004</th>\n",
       "      <th>LS005</th>\n",
       "      <th>...</th>\n",
       "      <th>HE.SRS017103</th>\n",
       "      <th>HE.SRS017433</th>\n",
       "      <th>HE.SRS018427</th>\n",
       "      <th>HE.SRS018656</th>\n",
       "      <th>HE.SRS020328</th>\n",
       "      <th>HE.SRS020869</th>\n",
       "      <th>HE.SRS022713</th>\n",
       "      <th>HE.SRS016585.suspect</th>\n",
       "      <th>over</th>\n",
       "      <th>kegg.selected</th>\n",
       "    </tr>\n",
       "  </thead>\n",
       "  <tbody>\n",
       "    <tr>\n",
       "      <th>0</th>\n",
       "      <td>K00001</td>\n",
       "      <td>Metabolism</td>\n",
       "      <td>Overview</td>\n",
       "      <td>NaN</td>\n",
       "      <td>K00001(alcohol_dehydrogenase)</td>\n",
       "      <td>0.005732</td>\n",
       "      <td>0.006140</td>\n",
       "      <td>0.006243</td>\n",
       "      <td>0.005962</td>\n",
       "      <td>0.008011</td>\n",
       "      <td>...</td>\n",
       "      <td>0.003359</td>\n",
       "      <td>0.004281</td>\n",
       "      <td>0.003052</td>\n",
       "      <td>0.003625</td>\n",
       "      <td>0.002673</td>\n",
       "      <td>0.003999</td>\n",
       "      <td>0.003734</td>\n",
       "      <td>8.220359e-03</td>\n",
       "      <td>0.542</td>\n",
       "      <td>0 Test set</td>\n",
       "    </tr>\n",
       "    <tr>\n",
       "      <th>1</th>\n",
       "      <td>K00002</td>\n",
       "      <td>Metabolism</td>\n",
       "      <td>Overview</td>\n",
       "      <td>NaN</td>\n",
       "      <td>K00002(alcohol_dehydrogenase_(NADP+))</td>\n",
       "      <td>0.000382</td>\n",
       "      <td>0.000409</td>\n",
       "      <td>0.000610</td>\n",
       "      <td>0.000533</td>\n",
       "      <td>0.000313</td>\n",
       "      <td>...</td>\n",
       "      <td>0.000071</td>\n",
       "      <td>0.000014</td>\n",
       "      <td>0.000248</td>\n",
       "      <td>0.000649</td>\n",
       "      <td>0.000151</td>\n",
       "      <td>0.000157</td>\n",
       "      <td>0.000000</td>\n",
       "      <td>4.812945e-07</td>\n",
       "      <td>0.218</td>\n",
       "      <td>0 Test set</td>\n",
       "    </tr>\n",
       "    <tr>\n",
       "      <th>2</th>\n",
       "      <td>K00003</td>\n",
       "      <td>Metabolism</td>\n",
       "      <td>Overview</td>\n",
       "      <td>NaN</td>\n",
       "      <td>K00003(homoserine_dehydrogenase)</td>\n",
       "      <td>0.000855</td>\n",
       "      <td>0.001034</td>\n",
       "      <td>0.001125</td>\n",
       "      <td>0.001074</td>\n",
       "      <td>0.001224</td>\n",
       "      <td>...</td>\n",
       "      <td>0.000249</td>\n",
       "      <td>0.000131</td>\n",
       "      <td>0.000351</td>\n",
       "      <td>0.000676</td>\n",
       "      <td>0.000430</td>\n",
       "      <td>0.000318</td>\n",
       "      <td>0.000050</td>\n",
       "      <td>1.209999e-06</td>\n",
       "      <td>0.294</td>\n",
       "      <td>1 Used for KS selection</td>\n",
       "    </tr>\n",
       "    <tr>\n",
       "      <th>3</th>\n",
       "      <td>K00004</td>\n",
       "      <td>Metabolism</td>\n",
       "      <td>Carbohydrate metabolism</td>\n",
       "      <td>NaN</td>\n",
       "      <td>K00004((R,R)-butanediol_dehydrogenase_/_diacet...</td>\n",
       "      <td>0.000091</td>\n",
       "      <td>0.000106</td>\n",
       "      <td>0.000149</td>\n",
       "      <td>0.000116</td>\n",
       "      <td>0.000064</td>\n",
       "      <td>...</td>\n",
       "      <td>0.000008</td>\n",
       "      <td>0.000008</td>\n",
       "      <td>0.000014</td>\n",
       "      <td>0.000039</td>\n",
       "      <td>0.000068</td>\n",
       "      <td>0.000010</td>\n",
       "      <td>0.000006</td>\n",
       "      <td>4.127393e-04</td>\n",
       "      <td>0.202</td>\n",
       "      <td>1 Used for KS selection</td>\n",
       "    </tr>\n",
       "    <tr>\n",
       "      <th>4</th>\n",
       "      <td>K00005</td>\n",
       "      <td>Metabolism</td>\n",
       "      <td>Carbohydrate metabolism</td>\n",
       "      <td>NaN</td>\n",
       "      <td>K00005(glycerol_dehydrogenase)</td>\n",
       "      <td>0.000167</td>\n",
       "      <td>0.000236</td>\n",
       "      <td>0.000223</td>\n",
       "      <td>0.000203</td>\n",
       "      <td>0.000218</td>\n",
       "      <td>...</td>\n",
       "      <td>0.000030</td>\n",
       "      <td>0.000004</td>\n",
       "      <td>0.000034</td>\n",
       "      <td>0.000036</td>\n",
       "      <td>0.000055</td>\n",
       "      <td>0.000065</td>\n",
       "      <td>0.000000</td>\n",
       "      <td>2.158647e-04</td>\n",
       "      <td>0.028</td>\n",
       "      <td>1 Used for KS selection</td>\n",
       "    </tr>\n",
       "  </tbody>\n",
       "</table>\n",
       "<p>5 rows × 70 columns</p>\n",
       "</div>"
      ],
      "text/plain": [
       "     kegg     level_1                  level_2 BRITE_id  \\\n",
       "0  K00001  Metabolism                 Overview      NaN   \n",
       "1  K00002  Metabolism                 Overview      NaN   \n",
       "2  K00003  Metabolism                 Overview      NaN   \n",
       "3  K00004  Metabolism  Carbohydrate metabolism      NaN   \n",
       "4  K00005  Metabolism  Carbohydrate metabolism      NaN   \n",
       "\n",
       "                                                   X     LS001     LS002  \\\n",
       "0                      K00001(alcohol_dehydrogenase)  0.005732  0.006140   \n",
       "1              K00002(alcohol_dehydrogenase_(NADP+))  0.000382  0.000409   \n",
       "2                   K00003(homoserine_dehydrogenase)  0.000855  0.001034   \n",
       "3  K00004((R,R)-butanediol_dehydrogenase_/_diacet...  0.000091  0.000106   \n",
       "4                     K00005(glycerol_dehydrogenase)  0.000167  0.000236   \n",
       "\n",
       "      LS003     LS004     LS005           ...             HE.SRS017103  \\\n",
       "0  0.006243  0.005962  0.008011           ...                 0.003359   \n",
       "1  0.000610  0.000533  0.000313           ...                 0.000071   \n",
       "2  0.001125  0.001074  0.001224           ...                 0.000249   \n",
       "3  0.000149  0.000116  0.000064           ...                 0.000008   \n",
       "4  0.000223  0.000203  0.000218           ...                 0.000030   \n",
       "\n",
       "   HE.SRS017433  HE.SRS018427  HE.SRS018656  HE.SRS020328  HE.SRS020869  \\\n",
       "0      0.004281      0.003052      0.003625      0.002673      0.003999   \n",
       "1      0.000014      0.000248      0.000649      0.000151      0.000157   \n",
       "2      0.000131      0.000351      0.000676      0.000430      0.000318   \n",
       "3      0.000008      0.000014      0.000039      0.000068      0.000010   \n",
       "4      0.000004      0.000034      0.000036      0.000055      0.000065   \n",
       "\n",
       "   HE.SRS022713  HE.SRS016585.suspect   over            kegg.selected  \n",
       "0      0.003734          8.220359e-03  0.542               0 Test set  \n",
       "1      0.000000          4.812945e-07  0.218               0 Test set  \n",
       "2      0.000050          1.209999e-06  0.294  1 Used for KS selection  \n",
       "3      0.000006          4.127393e-04  0.202  1 Used for KS selection  \n",
       "4      0.000000          2.158647e-04  0.028  1 Used for KS selection  \n",
       "\n",
       "[5 rows x 70 columns]"
      ]
     },
     "execution_count": 4,
     "metadata": {},
     "output_type": "execute_result"
    }
   ],
   "source": [
    "df = pd.read_csv(\"../data/keggs_RF_conf_scores.csv\")\n",
    "df.head()"
   ]
  },
  {
   "cell_type": "code",
   "execution_count": 5,
   "metadata": {
    "collapsed": false
   },
   "outputs": [],
   "source": [
    "kegg_labels = []\n",
    "bad_keggs = []\n",
    "for i, kegg in enumerate(keggs):\n",
    "    if kegg in list(df.kegg):\n",
    "        kegg_score = df[df.kegg== kegg][\"over\"].item()\n",
    "        if kegg_score > 0.75: \n",
    "            kegg_labels.append(\"over\")\n",
    "        elif kegg_score < 0.25:\n",
    "            kegg_labels.append(\"under\")\n",
    "        else:\n",
    "            kegg_labels.append(\"neither\")\n",
    "    else:\n",
    "        kegg_labels.append(\"unknown\")\n",
    "        bad_keggs.append(i)"
   ]
  },
  {
   "cell_type": "code",
   "execution_count": 6,
   "metadata": {
    "collapsed": false
   },
   "outputs": [
    {
     "data": {
      "text/plain": [
       "10193"
      ]
     },
     "execution_count": 6,
     "metadata": {},
     "output_type": "execute_result"
    }
   ],
   "source": [
    "len(kegg_labels)"
   ]
  },
  {
   "cell_type": "code",
   "execution_count": 7,
   "metadata": {
    "collapsed": false
   },
   "outputs": [
    {
     "data": {
      "text/plain": [
       "181"
      ]
     },
     "execution_count": 7,
     "metadata": {},
     "output_type": "execute_result"
    }
   ],
   "source": [
    "len(bad_keggs)"
   ]
  },
  {
   "cell_type": "code",
   "execution_count": 8,
   "metadata": {
    "collapsed": true
   },
   "outputs": [],
   "source": [
    "le = preprocessing.LabelEncoder()\n",
    "y_labels = le.fit_transform(kegg_labels)"
   ]
  },
  {
   "cell_type": "code",
   "execution_count": 9,
   "metadata": {
    "collapsed": false
   },
   "outputs": [
    {
     "data": {
      "text/plain": [
       "Counter({0: 7507, 2: 2057, 1: 448, 3: 181})"
      ]
     },
     "execution_count": 9,
     "metadata": {},
     "output_type": "execute_result"
    }
   ],
   "source": [
    "counter=collections.Counter(y_labels)\n",
    "counter"
   ]
  },
  {
   "cell_type": "code",
   "execution_count": 10,
   "metadata": {
    "collapsed": false
   },
   "outputs": [
    {
     "data": {
      "text/plain": [
       "Counter({'neither': 7507, 'under': 2057, 'over': 448, 'unknown': 181})"
      ]
     },
     "execution_count": 10,
     "metadata": {},
     "output_type": "execute_result"
    }
   ],
   "source": [
    "counter=collections.Counter(kegg_labels)\n",
    "counter"
   ]
  },
  {
   "cell_type": "code",
   "execution_count": 12,
   "metadata": {
    "collapsed": true
   },
   "outputs": [],
   "source": [
    "from sklearn import cross_validation\n",
    "from sklearn.pipeline import Pipeline"
   ]
  },
  {
   "cell_type": "code",
   "execution_count": 14,
   "metadata": {
    "collapsed": false
   },
   "outputs": [],
   "source": [
    "text_clf = Pipeline([('vect', CountVectorizer(min_df = 5, analyzer = \"word\", stop_words=\"english\")),\n",
    "                     ('tfidf', TfidfTransformer(use_idf=False)),\n",
    "                     ('sc1', StandardScaler(with_mean=False)),\n",
    "                     ('clf', SGDClassifier(loss='log', penalty='l2',\n",
    "                                           alpha=10, n_iter=10, random_state=42))])"
   ]
  },
  {
   "cell_type": "code",
   "execution_count": 17,
   "metadata": {
    "collapsed": true
   },
   "outputs": [],
   "source": [
    "parameters = {'clf__alpha': np.logspace(-2, 2, 5)}"
   ]
  },
  {
   "cell_type": "code",
   "execution_count": 18,
   "metadata": {
    "collapsed": false
   },
   "outputs": [],
   "source": [
    "good_kegg_list = []\n",
    "for i, kegg in enumerate(keggs):\n",
    "    if i in bad_keggs:\n",
    "        continue\n",
    "    else:\n",
    "        good_kegg_list.append(kegg_queries[kegg])"
   ]
  },
  {
   "cell_type": "code",
   "execution_count": 19,
   "metadata": {
    "collapsed": true
   },
   "outputs": [],
   "source": [
    "gs_clf = GridSearchCV(text_clf, parameters, cv=5, n_jobs=-1, scoring = \"f1_weighted\")"
   ]
  },
  {
   "cell_type": "code",
   "execution_count": null,
   "metadata": {
    "collapsed": false
   },
   "outputs": [],
   "source": [
    "gs_clf.fit(good_kegg_list, delete(y_labels, bad_keggs))"
   ]
  },
  {
   "cell_type": "code",
   "execution_count": 20,
   "metadata": {
    "collapsed": false
   },
   "outputs": [
    {
     "ename": "AttributeError",
     "evalue": "'GridSearchCV' object has no attribute 'best_score_'",
     "output_type": "error",
     "traceback": [
      "\u001b[0;31m---------------------------------------------------------------------------\u001b[0m",
      "\u001b[0;31mAttributeError\u001b[0m                            Traceback (most recent call last)",
      "\u001b[0;32m<ipython-input-20-54b7e9b51ba8>\u001b[0m in \u001b[0;36m<module>\u001b[0;34m()\u001b[0m\n\u001b[0;32m----> 1\u001b[0;31m \u001b[0mgs_clf\u001b[0m\u001b[0;34m.\u001b[0m\u001b[0mbest_score_\u001b[0m\u001b[0;34m\u001b[0m\u001b[0m\n\u001b[0m",
      "\u001b[0;31mAttributeError\u001b[0m: 'GridSearchCV' object has no attribute 'best_score_'"
     ]
    }
   ],
   "source": [
    "gs_clf.best_score_"
   ]
  },
  {
   "cell_type": "code",
   "execution_count": 24,
   "metadata": {
    "collapsed": false
   },
   "outputs": [
    {
     "data": {
      "text/plain": [
       "{'clf__C': 6.1584821106602607}"
      ]
     },
     "execution_count": 24,
     "metadata": {},
     "output_type": "execute_result"
    }
   ],
   "source": [
    "gs_clf.best_params_"
   ]
  },
  {
   "cell_type": "code",
   "execution_count": 26,
   "metadata": {
    "collapsed": false
   },
   "outputs": [],
   "source": [
    "classificaitons = gs_clf.predict(good_kegg_list)"
   ]
  },
  {
   "cell_type": "code",
   "execution_count": 28,
   "metadata": {
    "collapsed": false
   },
   "outputs": [],
   "source": [
    "kegg_ids = []\n",
    "bad_keggs = []\n",
    "for i, kegg in enumerate(keggs):\n",
    "    if kegg in list(df.kegg):\n",
    "        kegg_ids.append(df[df.kegg== kegg][\"kegg\"].item())\n",
    "    else:\n",
    "        kegg_ids.append(\"NA\")\n",
    "        bad_keggs.append(i)\n",
    "\n",
    "good_kegg_list = []\n",
    "good_keg_ids = []\n",
    "for i, kegg in enumerate(keggs):\n",
    "    if i in bad_keggs:\n",
    "        continue\n",
    "    else:\n",
    "        good_keg_ids.append(kegg_ids[i])\n",
    "        good_kegg_list.append(kegg_lists[i])"
   ]
  },
  {
   "cell_type": "code",
   "execution_count": 29,
   "metadata": {
    "collapsed": false
   },
   "outputs": [
    {
     "data": {
      "text/html": [
       "<div>\n",
       "<table border=\"1\" class=\"dataframe\">\n",
       "  <thead>\n",
       "    <tr style=\"text-align: right;\">\n",
       "      <th></th>\n",
       "      <th>classifier_output</th>\n",
       "      <th>kegg</th>\n",
       "    </tr>\n",
       "  </thead>\n",
       "  <tbody>\n",
       "    <tr>\n",
       "      <th>0</th>\n",
       "      <td>0</td>\n",
       "      <td>K02040</td>\n",
       "    </tr>\n",
       "    <tr>\n",
       "      <th>1</th>\n",
       "      <td>0</td>\n",
       "      <td>K01369</td>\n",
       "    </tr>\n",
       "    <tr>\n",
       "      <th>2</th>\n",
       "      <td>0</td>\n",
       "      <td>K01368</td>\n",
       "    </tr>\n",
       "    <tr>\n",
       "      <th>3</th>\n",
       "      <td>0</td>\n",
       "      <td>K01365</td>\n",
       "    </tr>\n",
       "    <tr>\n",
       "      <th>4</th>\n",
       "      <td>0</td>\n",
       "      <td>K01364</td>\n",
       "    </tr>\n",
       "  </tbody>\n",
       "</table>\n",
       "</div>"
      ],
      "text/plain": [
       "   classifier_output    kegg\n",
       "0                  0  K02040\n",
       "1                  0  K01369\n",
       "2                  0  K01368\n",
       "3                  0  K01365\n",
       "4                  0  K01364"
      ]
     },
     "execution_count": 29,
     "metadata": {},
     "output_type": "execute_result"
    }
   ],
   "source": [
    "classifications_df = pd.DataFrame({'kegg': good_keg_ids, 'classifier_output': classificaitons})\n",
    "classifications_df.head()"
   ]
  },
  {
   "cell_type": "code",
   "execution_count": 30,
   "metadata": {
    "collapsed": true
   },
   "outputs": [],
   "source": [
    "classifications_df.to_csv(\"../data/classification-results.csv\", index = False)"
   ]
  },
  {
   "cell_type": "code",
   "execution_count": null,
   "metadata": {
    "collapsed": true
   },
   "outputs": [],
   "source": [
    "from sklearn.cross_validation import train_test_split\n",
    "X_train, X_test, y_train, y_test = train_test_split(good_kegg_list, delete(y_labels, bad_keggs), test_size=0.2, random_state=0)"
   ]
  },
  {
   "cell_type": "code",
   "execution_count": null,
   "metadata": {
    "collapsed": false
   },
   "outputs": [],
   "source": [
    "text_clf.fit(X_train, y_train)"
   ]
  },
  {
   "cell_type": "code",
   "execution_count": null,
   "metadata": {
    "collapsed": false
   },
   "outputs": [],
   "source": [
    "text_clf.score(X_train, y_train)"
   ]
  },
  {
   "cell_type": "code",
   "execution_count": null,
   "metadata": {
    "collapsed": false
   },
   "outputs": [],
   "source": [
    "text_clf.score(X_test, y_test)"
   ]
  },
  {
   "cell_type": "code",
   "execution_count": null,
   "metadata": {
    "collapsed": true
   },
   "outputs": [],
   "source": []
  }
 ],
 "metadata": {
  "kernelspec": {
   "display_name": "Python 2",
   "language": "python",
   "name": "python2"
  },
  "language_info": {
   "codemirror_mode": {
    "name": "ipython",
    "version": 2
   },
   "file_extension": ".py",
   "mimetype": "text/x-python",
   "name": "python",
   "nbconvert_exporter": "python",
   "pygments_lexer": "ipython2",
   "version": "2.7.12"
  }
 },
 "nbformat": 4,
 "nbformat_minor": 0
}
